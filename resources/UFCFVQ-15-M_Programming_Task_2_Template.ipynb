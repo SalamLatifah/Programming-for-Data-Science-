{
 "cells": [
  {
   "cell_type": "markdown",
   "metadata": {
    "deletable": false
   },
   "source": [
    "#  Programming for Data Science "
   ]
  },
  {
   "cell_type": "markdown",
   "metadata": {},
   "source": [
    "## Student Id: "
   ]
  },
  {
   "cell_type": "markdown",
   "metadata": {},
   "source": [
    "# Programming Task 2"
   ]
  },
  {
   "cell_type": "markdown",
   "metadata": {
    "deletable": false
   },
   "source": [
    "### Requirement FR6 - Read CSV data from two files and merge it into a single Data Frame "
   ]
  },
  {
   "cell_type": "markdown",
   "metadata": {},
   "source": [
    "#### Retrieve and import data\n",
    "\n",
    "The first step is to import the main data science libraries. This is crucial because these libraries provide a wide range of tools and functionalities that make it easier to work with data efficiently and effectively."
   ]
  },
  {
   "cell_type": "code",
   "execution_count": 94,
   "metadata": {},
   "outputs": [],
   "source": [
    "# import necessary libriaries\n",
    "\n",
    "import numpy as np\n",
    "import pandas as pd\n",
    "import matplotlib.pyplot as plt\n",
    "import seaborn as sns\n",
    "from scipy import stats"
   ]
  },
  {
   "cell_type": "markdown",
   "metadata": {},
   "source": [
    "In the code block below i use Pandas `read_csv()` function to read the contents of ``task2a.csv`` file into a ``DataFrame``. \n",
    "\n",
    "Where; \n",
    "* `MA_disorders` represent a new variable name for `task2a` dataset.\n",
    "\n",
    "* `DA_dependance` represent a new variable name for`task2b`  dataset."
   ]
  },
  {
   "cell_type": "code",
   "execution_count": 95,
   "metadata": {
    "deletable": false
   },
   "outputs": [],
   "source": [
    "# Read csv files\n",
    "\n",
    "MA_disorders = pd.read_csv(\"task2a.csv\")\n",
    "DA_dependance = pd.read_csv(\"task2b.csv\")"
   ]
  },
  {
   "cell_type": "markdown",
   "metadata": {},
   "source": [
    "Let's start to explore the datasets to form a first idea of the data:"
   ]
  },
  {
   "cell_type": "markdown",
   "metadata": {},
   "source": [
    "#### MA_disorders"
   ]
  },
  {
   "cell_type": "code",
   "execution_count": 96,
   "metadata": {},
   "outputs": [
    {
     "data": {
      "text/html": [
       "<div>\n",
       "<style scoped>\n",
       "    .dataframe tbody tr th:only-of-type {\n",
       "        vertical-align: middle;\n",
       "    }\n",
       "\n",
       "    .dataframe tbody tr th {\n",
       "        vertical-align: top;\n",
       "    }\n",
       "\n",
       "    .dataframe thead th {\n",
       "        text-align: right;\n",
       "    }\n",
       "</style>\n",
       "<table border=\"1\" class=\"dataframe\">\n",
       "  <thead>\n",
       "    <tr style=\"text-align: right;\">\n",
       "      <th></th>\n",
       "      <th>Entity</th>\n",
       "      <th>Year</th>\n",
       "      <th>Schizophrenia (%)</th>\n",
       "      <th>Bipolar disorder (%)</th>\n",
       "      <th>Eating disorders (%)</th>\n",
       "      <th>Anxiety disorders (%)</th>\n",
       "      <th>Depression (%)</th>\n",
       "    </tr>\n",
       "  </thead>\n",
       "  <tbody>\n",
       "    <tr>\n",
       "      <th>0</th>\n",
       "      <td>Afghanistan</td>\n",
       "      <td>1990</td>\n",
       "      <td>0.160560</td>\n",
       "      <td>0.697779</td>\n",
       "      <td>0.101855</td>\n",
       "      <td>4.828830</td>\n",
       "      <td>4.071831</td>\n",
       "    </tr>\n",
       "    <tr>\n",
       "      <th>1</th>\n",
       "      <td>Afghanistan</td>\n",
       "      <td>1991</td>\n",
       "      <td>0.160312</td>\n",
       "      <td>0.697961</td>\n",
       "      <td>0.099313</td>\n",
       "      <td>4.829740</td>\n",
       "      <td>4.079531</td>\n",
       "    </tr>\n",
       "    <tr>\n",
       "      <th>2</th>\n",
       "      <td>Afghanistan</td>\n",
       "      <td>1992</td>\n",
       "      <td>0.160135</td>\n",
       "      <td>0.698107</td>\n",
       "      <td>0.096692</td>\n",
       "      <td>4.831108</td>\n",
       "      <td>4.088358</td>\n",
       "    </tr>\n",
       "    <tr>\n",
       "      <th>3</th>\n",
       "      <td>Afghanistan</td>\n",
       "      <td>1993</td>\n",
       "      <td>0.160037</td>\n",
       "      <td>0.698257</td>\n",
       "      <td>0.094336</td>\n",
       "      <td>4.830864</td>\n",
       "      <td>4.096190</td>\n",
       "    </tr>\n",
       "    <tr>\n",
       "      <th>4</th>\n",
       "      <td>Afghanistan</td>\n",
       "      <td>1994</td>\n",
       "      <td>0.160022</td>\n",
       "      <td>0.698469</td>\n",
       "      <td>0.092439</td>\n",
       "      <td>4.829423</td>\n",
       "      <td>4.099582</td>\n",
       "    </tr>\n",
       "  </tbody>\n",
       "</table>\n",
       "</div>"
      ],
      "text/plain": [
       "        Entity  Year  Schizophrenia (%)  Bipolar disorder (%)  \\\n",
       "0  Afghanistan  1990           0.160560              0.697779   \n",
       "1  Afghanistan  1991           0.160312              0.697961   \n",
       "2  Afghanistan  1992           0.160135              0.698107   \n",
       "3  Afghanistan  1993           0.160037              0.698257   \n",
       "4  Afghanistan  1994           0.160022              0.698469   \n",
       "\n",
       "   Eating disorders (%)  Anxiety disorders (%)  Depression (%)  \n",
       "0              0.101855               4.828830        4.071831  \n",
       "1              0.099313               4.829740        4.079531  \n",
       "2              0.096692               4.831108        4.088358  \n",
       "3              0.094336               4.830864        4.096190  \n",
       "4              0.092439               4.829423        4.099582  "
      ]
     },
     "execution_count": 96,
     "metadata": {},
     "output_type": "execute_result"
    }
   ],
   "source": [
    "# viewing the first five rows of the MA_disorders dataset\n",
    "MA_disorders.head()"
   ]
  },
  {
   "cell_type": "markdown",
   "metadata": {},
   "source": [
    "MA_disorders dataset has 7 columns, 'Entity', 'Year', 'Schizophrenia (%)', 'Bipolar (%)', 'Eating disorders (%)', 'Anxiety disorders(%)' and Depression (%)'. From a quick glance, we can deduce that:\n",
    "* All the mental health disorders are in percentage.\n",
    "* The different types of mental health disorders for each country and the years these disorders was recorded around the world."
   ]
  },
  {
   "cell_type": "code",
   "execution_count": 97,
   "metadata": {},
   "outputs": [
    {
     "name": "stdout",
     "output_type": "stream",
     "text": [
      "<class 'pandas.core.frame.DataFrame'>\n",
      "RangeIndex: 6468 entries, 0 to 6467\n",
      "Data columns (total 7 columns):\n",
      " #   Column                 Non-Null Count  Dtype  \n",
      "---  ------                 --------------  -----  \n",
      " 0   Entity                 6468 non-null   object \n",
      " 1   Year                   6468 non-null   int64  \n",
      " 2   Schizophrenia (%)      6468 non-null   float64\n",
      " 3   Bipolar disorder (%)   6468 non-null   float64\n",
      " 4   Eating disorders (%)   6468 non-null   float64\n",
      " 5   Anxiety disorders (%)  6468 non-null   float64\n",
      " 6   Depression (%)         6468 non-null   float64\n",
      "dtypes: float64(5), int64(1), object(1)\n",
      "memory usage: 353.8+ KB\n"
     ]
    }
   ],
   "source": [
    "# using pandas library info() function to get a summary of MA_disorders DataFrame stucture.\n",
    "MA_disorders.info() "
   ]
  },
  {
   "cell_type": "markdown",
   "metadata": {},
   "source": [
    "MA_disorders have 6,468 entries in total and all the columns seem to have the right data type."
   ]
  },
  {
   "cell_type": "code",
   "execution_count": 98,
   "metadata": {},
   "outputs": [
    {
     "data": {
      "text/html": [
       "<div>\n",
       "<style scoped>\n",
       "    .dataframe tbody tr th:only-of-type {\n",
       "        vertical-align: middle;\n",
       "    }\n",
       "\n",
       "    .dataframe tbody tr th {\n",
       "        vertical-align: top;\n",
       "    }\n",
       "\n",
       "    .dataframe thead th {\n",
       "        text-align: right;\n",
       "    }\n",
       "</style>\n",
       "<table border=\"1\" class=\"dataframe\">\n",
       "  <thead>\n",
       "    <tr style=\"text-align: right;\">\n",
       "      <th></th>\n",
       "      <th>Entity</th>\n",
       "      <th>Year</th>\n",
       "      <th>Schizophrenia (%)</th>\n",
       "      <th>Bipolar disorder (%)</th>\n",
       "      <th>Eating disorders (%)</th>\n",
       "      <th>Anxiety disorders (%)</th>\n",
       "      <th>Depression (%)</th>\n",
       "    </tr>\n",
       "  </thead>\n",
       "  <tbody>\n",
       "    <tr>\n",
       "      <th>count</th>\n",
       "      <td>6468</td>\n",
       "      <td>6468.000000</td>\n",
       "      <td>6468.000000</td>\n",
       "      <td>6468.000000</td>\n",
       "      <td>6468.000000</td>\n",
       "      <td>6468.000000</td>\n",
       "      <td>6468.000000</td>\n",
       "    </tr>\n",
       "    <tr>\n",
       "      <th>unique</th>\n",
       "      <td>231</td>\n",
       "      <td>NaN</td>\n",
       "      <td>NaN</td>\n",
       "      <td>NaN</td>\n",
       "      <td>NaN</td>\n",
       "      <td>NaN</td>\n",
       "      <td>NaN</td>\n",
       "    </tr>\n",
       "    <tr>\n",
       "      <th>top</th>\n",
       "      <td>Afghanistan</td>\n",
       "      <td>NaN</td>\n",
       "      <td>NaN</td>\n",
       "      <td>NaN</td>\n",
       "      <td>NaN</td>\n",
       "      <td>NaN</td>\n",
       "      <td>NaN</td>\n",
       "    </tr>\n",
       "    <tr>\n",
       "      <th>freq</th>\n",
       "      <td>28</td>\n",
       "      <td>NaN</td>\n",
       "      <td>NaN</td>\n",
       "      <td>NaN</td>\n",
       "      <td>NaN</td>\n",
       "      <td>NaN</td>\n",
       "      <td>NaN</td>\n",
       "    </tr>\n",
       "    <tr>\n",
       "      <th>mean</th>\n",
       "      <td>NaN</td>\n",
       "      <td>2003.500000</td>\n",
       "      <td>0.211644</td>\n",
       "      <td>0.719145</td>\n",
       "      <td>0.239998</td>\n",
       "      <td>3.989921</td>\n",
       "      <td>3.497654</td>\n",
       "    </tr>\n",
       "    <tr>\n",
       "      <th>std</th>\n",
       "      <td>NaN</td>\n",
       "      <td>8.078372</td>\n",
       "      <td>0.044253</td>\n",
       "      <td>0.171589</td>\n",
       "      <td>0.158141</td>\n",
       "      <td>1.167526</td>\n",
       "      <td>0.655859</td>\n",
       "    </tr>\n",
       "    <tr>\n",
       "      <th>min</th>\n",
       "      <td>NaN</td>\n",
       "      <td>1990.000000</td>\n",
       "      <td>0.146902</td>\n",
       "      <td>0.314535</td>\n",
       "      <td>0.073908</td>\n",
       "      <td>2.023393</td>\n",
       "      <td>2.139903</td>\n",
       "    </tr>\n",
       "    <tr>\n",
       "      <th>25%</th>\n",
       "      <td>NaN</td>\n",
       "      <td>1996.750000</td>\n",
       "      <td>0.181530</td>\n",
       "      <td>0.615532</td>\n",
       "      <td>0.122387</td>\n",
       "      <td>3.188824</td>\n",
       "      <td>3.005529</td>\n",
       "    </tr>\n",
       "    <tr>\n",
       "      <th>50%</th>\n",
       "      <td>NaN</td>\n",
       "      <td>2003.500000</td>\n",
       "      <td>0.199563</td>\n",
       "      <td>0.693134</td>\n",
       "      <td>0.182525</td>\n",
       "      <td>3.554373</td>\n",
       "      <td>3.499606</td>\n",
       "    </tr>\n",
       "    <tr>\n",
       "      <th>75%</th>\n",
       "      <td>NaN</td>\n",
       "      <td>2010.250000</td>\n",
       "      <td>0.236365</td>\n",
       "      <td>0.835063</td>\n",
       "      <td>0.292666</td>\n",
       "      <td>4.682163</td>\n",
       "      <td>3.912381</td>\n",
       "    </tr>\n",
       "    <tr>\n",
       "      <th>max</th>\n",
       "      <td>NaN</td>\n",
       "      <td>2017.000000</td>\n",
       "      <td>0.375110</td>\n",
       "      <td>1.206597</td>\n",
       "      <td>0.943991</td>\n",
       "      <td>8.967330</td>\n",
       "      <td>6.602754</td>\n",
       "    </tr>\n",
       "  </tbody>\n",
       "</table>\n",
       "</div>"
      ],
      "text/plain": [
       "             Entity         Year  Schizophrenia (%)  Bipolar disorder (%)  \\\n",
       "count          6468  6468.000000        6468.000000           6468.000000   \n",
       "unique          231          NaN                NaN                   NaN   \n",
       "top     Afghanistan          NaN                NaN                   NaN   \n",
       "freq             28          NaN                NaN                   NaN   \n",
       "mean            NaN  2003.500000           0.211644              0.719145   \n",
       "std             NaN     8.078372           0.044253              0.171589   \n",
       "min             NaN  1990.000000           0.146902              0.314535   \n",
       "25%             NaN  1996.750000           0.181530              0.615532   \n",
       "50%             NaN  2003.500000           0.199563              0.693134   \n",
       "75%             NaN  2010.250000           0.236365              0.835063   \n",
       "max             NaN  2017.000000           0.375110              1.206597   \n",
       "\n",
       "        Eating disorders (%)  Anxiety disorders (%)  Depression (%)  \n",
       "count            6468.000000            6468.000000     6468.000000  \n",
       "unique                   NaN                    NaN             NaN  \n",
       "top                      NaN                    NaN             NaN  \n",
       "freq                     NaN                    NaN             NaN  \n",
       "mean                0.239998               3.989921        3.497654  \n",
       "std                 0.158141               1.167526        0.655859  \n",
       "min                 0.073908               2.023393        2.139903  \n",
       "25%                 0.122387               3.188824        3.005529  \n",
       "50%                 0.182525               3.554373        3.499606  \n",
       "75%                 0.292666               4.682163        3.912381  \n",
       "max                 0.943991               8.967330        6.602754  "
      ]
     },
     "execution_count": 98,
     "metadata": {},
     "output_type": "execute_result"
    }
   ],
   "source": [
    "# Using describe() function generate a summary statistics of MA_disorders.\n",
    "MA_disorders.describe(include = 'all')"
   ]
  },
  {
   "cell_type": "markdown",
   "metadata": {},
   "source": [
    "From the above summary statistics we deduce that we have 231 unique values and \"Afghanistan' is the most frequently occouring entity with 28 occurrence."
   ]
  },
  {
   "cell_type": "markdown",
   "metadata": {},
   "source": [
    "#### DA_dependance"
   ]
  },
  {
   "cell_type": "code",
   "execution_count": 99,
   "metadata": {},
   "outputs": [
    {
     "data": {
      "text/html": [
       "<div>\n",
       "<style scoped>\n",
       "    .dataframe tbody tr th:only-of-type {\n",
       "        vertical-align: middle;\n",
       "    }\n",
       "\n",
       "    .dataframe tbody tr th {\n",
       "        vertical-align: top;\n",
       "    }\n",
       "\n",
       "    .dataframe thead th {\n",
       "        text-align: right;\n",
       "    }\n",
       "</style>\n",
       "<table border=\"1\" class=\"dataframe\">\n",
       "  <thead>\n",
       "    <tr style=\"text-align: right;\">\n",
       "      <th></th>\n",
       "      <th>Entity</th>\n",
       "      <th>Year</th>\n",
       "      <th>Drug use disorders (%)</th>\n",
       "      <th>Alcohol use disorders (%)</th>\n",
       "    </tr>\n",
       "  </thead>\n",
       "  <tbody>\n",
       "    <tr>\n",
       "      <th>0</th>\n",
       "      <td>Afghanistan</td>\n",
       "      <td>1990</td>\n",
       "      <td>1.677082</td>\n",
       "      <td>0.672404</td>\n",
       "    </tr>\n",
       "    <tr>\n",
       "      <th>1</th>\n",
       "      <td>Afghanistan</td>\n",
       "      <td>1991</td>\n",
       "      <td>1.684746</td>\n",
       "      <td>0.671768</td>\n",
       "    </tr>\n",
       "    <tr>\n",
       "      <th>2</th>\n",
       "      <td>Afghanistan</td>\n",
       "      <td>1992</td>\n",
       "      <td>1.694334</td>\n",
       "      <td>0.670644</td>\n",
       "    </tr>\n",
       "    <tr>\n",
       "      <th>3</th>\n",
       "      <td>Afghanistan</td>\n",
       "      <td>1993</td>\n",
       "      <td>1.705320</td>\n",
       "      <td>0.669738</td>\n",
       "    </tr>\n",
       "    <tr>\n",
       "      <th>4</th>\n",
       "      <td>Afghanistan</td>\n",
       "      <td>1994</td>\n",
       "      <td>1.716069</td>\n",
       "      <td>0.669260</td>\n",
       "    </tr>\n",
       "    <tr>\n",
       "      <th>...</th>\n",
       "      <td>...</td>\n",
       "      <td>...</td>\n",
       "      <td>...</td>\n",
       "      <td>...</td>\n",
       "    </tr>\n",
       "    <tr>\n",
       "      <th>6463</th>\n",
       "      <td>Zimbabwe</td>\n",
       "      <td>2013</td>\n",
       "      <td>0.766280</td>\n",
       "      <td>1.515641</td>\n",
       "    </tr>\n",
       "    <tr>\n",
       "      <th>6464</th>\n",
       "      <td>Zimbabwe</td>\n",
       "      <td>2014</td>\n",
       "      <td>0.768914</td>\n",
       "      <td>1.515470</td>\n",
       "    </tr>\n",
       "    <tr>\n",
       "      <th>6465</th>\n",
       "      <td>Zimbabwe</td>\n",
       "      <td>2015</td>\n",
       "      <td>0.771802</td>\n",
       "      <td>1.514751</td>\n",
       "    </tr>\n",
       "    <tr>\n",
       "      <th>6466</th>\n",
       "      <td>Zimbabwe</td>\n",
       "      <td>2016</td>\n",
       "      <td>0.772275</td>\n",
       "      <td>1.513269</td>\n",
       "    </tr>\n",
       "    <tr>\n",
       "      <th>6467</th>\n",
       "      <td>Zimbabwe</td>\n",
       "      <td>2017</td>\n",
       "      <td>0.772648</td>\n",
       "      <td>1.510943</td>\n",
       "    </tr>\n",
       "  </tbody>\n",
       "</table>\n",
       "<p>6468 rows × 4 columns</p>\n",
       "</div>"
      ],
      "text/plain": [
       "           Entity  Year  Drug use disorders (%)  Alcohol use disorders (%)\n",
       "0     Afghanistan  1990                1.677082                   0.672404\n",
       "1     Afghanistan  1991                1.684746                   0.671768\n",
       "2     Afghanistan  1992                1.694334                   0.670644\n",
       "3     Afghanistan  1993                1.705320                   0.669738\n",
       "4     Afghanistan  1994                1.716069                   0.669260\n",
       "...           ...   ...                     ...                        ...\n",
       "6463     Zimbabwe  2013                0.766280                   1.515641\n",
       "6464     Zimbabwe  2014                0.768914                   1.515470\n",
       "6465     Zimbabwe  2015                0.771802                   1.514751\n",
       "6466     Zimbabwe  2016                0.772275                   1.513269\n",
       "6467     Zimbabwe  2017                0.772648                   1.510943\n",
       "\n",
       "[6468 rows x 4 columns]"
      ]
     },
     "execution_count": 99,
     "metadata": {},
     "output_type": "execute_result"
    }
   ],
   "source": [
    "# display the DA_dependance dataset\n",
    "DA_dependance"
   ]
  },
  {
   "cell_type": "code",
   "execution_count": 100,
   "metadata": {},
   "outputs": [
    {
     "data": {
      "text/plain": [
       "(6468, 4)"
      ]
     },
     "execution_count": 100,
     "metadata": {},
     "output_type": "execute_result"
    }
   ],
   "source": [
    "# Using '.shape' method displays the total numbers of rows and columns\n",
    "DA_dependance.shape"
   ]
  },
  {
   "cell_type": "markdown",
   "metadata": {},
   "source": [
    "DA_dependance dataset has 4 columns, 'Entity', 'Year', 'Drug use disorders (%)' and 'Alcohol use disorders (%)'. \n",
    "\n",
    "From a quick glance, we can see that:\n",
    "\n",
    "* All the drug and alcohol dependence are in percentage.\n",
    "* The Year column shows the years the disorders persentage happens.\n",
    "* The country shows the location of the drug and alcohol use disorders for each entities."
   ]
  },
  {
   "cell_type": "code",
   "execution_count": 101,
   "metadata": {},
   "outputs": [
    {
     "name": "stdout",
     "output_type": "stream",
     "text": [
      "<class 'pandas.core.frame.DataFrame'>\n",
      "RangeIndex: 6468 entries, 0 to 6467\n",
      "Data columns (total 4 columns):\n",
      " #   Column                     Non-Null Count  Dtype  \n",
      "---  ------                     --------------  -----  \n",
      " 0   Entity                     6468 non-null   object \n",
      " 1   Year                       6468 non-null   int64  \n",
      " 2   Drug use disorders (%)     6468 non-null   float64\n",
      " 3   Alcohol use disorders (%)  6468 non-null   float64\n",
      "dtypes: float64(2), int64(1), object(1)\n",
      "memory usage: 202.3+ KB\n"
     ]
    }
   ],
   "source": [
    "# Using info() function to get a summary of DA_dependance DataFrame stucture.\n",
    "DA_dependance.info()"
   ]
  },
  {
   "cell_type": "markdown",
   "metadata": {},
   "source": [
    "We have 6,468 entries in total. Also, all the columns seem to have the right data type."
   ]
  },
  {
   "cell_type": "code",
   "execution_count": 102,
   "metadata": {},
   "outputs": [
    {
     "data": {
      "text/html": [
       "<div>\n",
       "<style scoped>\n",
       "    .dataframe tbody tr th:only-of-type {\n",
       "        vertical-align: middle;\n",
       "    }\n",
       "\n",
       "    .dataframe tbody tr th {\n",
       "        vertical-align: top;\n",
       "    }\n",
       "\n",
       "    .dataframe thead th {\n",
       "        text-align: right;\n",
       "    }\n",
       "</style>\n",
       "<table border=\"1\" class=\"dataframe\">\n",
       "  <thead>\n",
       "    <tr style=\"text-align: right;\">\n",
       "      <th></th>\n",
       "      <th>Year</th>\n",
       "      <th>Drug use disorders (%)</th>\n",
       "      <th>Alcohol use disorders (%)</th>\n",
       "    </tr>\n",
       "  </thead>\n",
       "  <tbody>\n",
       "    <tr>\n",
       "      <th>count</th>\n",
       "      <td>6468.000000</td>\n",
       "      <td>6468.000000</td>\n",
       "      <td>6468.000000</td>\n",
       "    </tr>\n",
       "    <tr>\n",
       "      <th>mean</th>\n",
       "      <td>2003.500000</td>\n",
       "      <td>0.862278</td>\n",
       "      <td>1.585821</td>\n",
       "    </tr>\n",
       "    <tr>\n",
       "      <th>std</th>\n",
       "      <td>8.078372</td>\n",
       "      <td>0.460679</td>\n",
       "      <td>0.860283</td>\n",
       "    </tr>\n",
       "    <tr>\n",
       "      <th>min</th>\n",
       "      <td>1990.000000</td>\n",
       "      <td>0.383650</td>\n",
       "      <td>0.446940</td>\n",
       "    </tr>\n",
       "    <tr>\n",
       "      <th>25%</th>\n",
       "      <td>1996.750000</td>\n",
       "      <td>0.535064</td>\n",
       "      <td>0.993685</td>\n",
       "    </tr>\n",
       "    <tr>\n",
       "      <th>50%</th>\n",
       "      <td>2003.500000</td>\n",
       "      <td>0.726430</td>\n",
       "      <td>1.479937</td>\n",
       "    </tr>\n",
       "    <tr>\n",
       "      <th>75%</th>\n",
       "      <td>2010.250000</td>\n",
       "      <td>0.940157</td>\n",
       "      <td>1.867834</td>\n",
       "    </tr>\n",
       "    <tr>\n",
       "      <th>max</th>\n",
       "      <td>2017.000000</td>\n",
       "      <td>3.452476</td>\n",
       "      <td>5.474668</td>\n",
       "    </tr>\n",
       "  </tbody>\n",
       "</table>\n",
       "</div>"
      ],
      "text/plain": [
       "              Year  Drug use disorders (%)  Alcohol use disorders (%)\n",
       "count  6468.000000             6468.000000                6468.000000\n",
       "mean   2003.500000                0.862278                   1.585821\n",
       "std       8.078372                0.460679                   0.860283\n",
       "min    1990.000000                0.383650                   0.446940\n",
       "25%    1996.750000                0.535064                   0.993685\n",
       "50%    2003.500000                0.726430                   1.479937\n",
       "75%    2010.250000                0.940157                   1.867834\n",
       "max    2017.000000                3.452476                   5.474668"
      ]
     },
     "execution_count": 102,
     "metadata": {},
     "output_type": "execute_result"
    }
   ],
   "source": [
    "# Using describe() function to generate descriptive statistics of MA_disorders\n",
    "DA_dependance.describe()"
   ]
  },
  {
   "cell_type": "markdown",
   "metadata": {},
   "source": [
    "#### Merging Dataframe\n",
    "For the next code block below. I made of `Pandas merge library` to join MA_disorders and DA_dependance into one DataFrame called `Disorders` based on their common columns `Entity` and `Year`."
   ]
  },
  {
   "cell_type": "code",
   "execution_count": 103,
   "metadata": {
    "scrolled": false
   },
   "outputs": [
    {
     "data": {
      "text/html": [
       "<div>\n",
       "<style scoped>\n",
       "    .dataframe tbody tr th:only-of-type {\n",
       "        vertical-align: middle;\n",
       "    }\n",
       "\n",
       "    .dataframe tbody tr th {\n",
       "        vertical-align: top;\n",
       "    }\n",
       "\n",
       "    .dataframe thead th {\n",
       "        text-align: right;\n",
       "    }\n",
       "</style>\n",
       "<table border=\"1\" class=\"dataframe\">\n",
       "  <thead>\n",
       "    <tr style=\"text-align: right;\">\n",
       "      <th></th>\n",
       "      <th>Entity</th>\n",
       "      <th>Year</th>\n",
       "      <th>Schizophrenia (%)</th>\n",
       "      <th>Bipolar disorder (%)</th>\n",
       "      <th>Eating disorders (%)</th>\n",
       "      <th>Anxiety disorders (%)</th>\n",
       "      <th>Depression (%)</th>\n",
       "      <th>Drug use disorders (%)</th>\n",
       "      <th>Alcohol use disorders (%)</th>\n",
       "    </tr>\n",
       "  </thead>\n",
       "  <tbody>\n",
       "    <tr>\n",
       "      <th>0</th>\n",
       "      <td>Afghanistan</td>\n",
       "      <td>1990</td>\n",
       "      <td>0.160560</td>\n",
       "      <td>0.697779</td>\n",
       "      <td>0.101855</td>\n",
       "      <td>4.828830</td>\n",
       "      <td>4.071831</td>\n",
       "      <td>1.677082</td>\n",
       "      <td>0.672404</td>\n",
       "    </tr>\n",
       "    <tr>\n",
       "      <th>1</th>\n",
       "      <td>Afghanistan</td>\n",
       "      <td>1991</td>\n",
       "      <td>0.160312</td>\n",
       "      <td>0.697961</td>\n",
       "      <td>0.099313</td>\n",
       "      <td>4.829740</td>\n",
       "      <td>4.079531</td>\n",
       "      <td>1.684746</td>\n",
       "      <td>0.671768</td>\n",
       "    </tr>\n",
       "    <tr>\n",
       "      <th>2</th>\n",
       "      <td>Afghanistan</td>\n",
       "      <td>1992</td>\n",
       "      <td>0.160135</td>\n",
       "      <td>0.698107</td>\n",
       "      <td>0.096692</td>\n",
       "      <td>4.831108</td>\n",
       "      <td>4.088358</td>\n",
       "      <td>1.694334</td>\n",
       "      <td>0.670644</td>\n",
       "    </tr>\n",
       "    <tr>\n",
       "      <th>3</th>\n",
       "      <td>Afghanistan</td>\n",
       "      <td>1993</td>\n",
       "      <td>0.160037</td>\n",
       "      <td>0.698257</td>\n",
       "      <td>0.094336</td>\n",
       "      <td>4.830864</td>\n",
       "      <td>4.096190</td>\n",
       "      <td>1.705320</td>\n",
       "      <td>0.669738</td>\n",
       "    </tr>\n",
       "    <tr>\n",
       "      <th>4</th>\n",
       "      <td>Afghanistan</td>\n",
       "      <td>1994</td>\n",
       "      <td>0.160022</td>\n",
       "      <td>0.698469</td>\n",
       "      <td>0.092439</td>\n",
       "      <td>4.829423</td>\n",
       "      <td>4.099582</td>\n",
       "      <td>1.716069</td>\n",
       "      <td>0.669260</td>\n",
       "    </tr>\n",
       "    <tr>\n",
       "      <th>...</th>\n",
       "      <td>...</td>\n",
       "      <td>...</td>\n",
       "      <td>...</td>\n",
       "      <td>...</td>\n",
       "      <td>...</td>\n",
       "      <td>...</td>\n",
       "      <td>...</td>\n",
       "      <td>...</td>\n",
       "      <td>...</td>\n",
       "    </tr>\n",
       "    <tr>\n",
       "      <th>6463</th>\n",
       "      <td>Zimbabwe</td>\n",
       "      <td>2013</td>\n",
       "      <td>0.155670</td>\n",
       "      <td>0.607993</td>\n",
       "      <td>0.117248</td>\n",
       "      <td>3.090168</td>\n",
       "      <td>3.128192</td>\n",
       "      <td>0.766280</td>\n",
       "      <td>1.515641</td>\n",
       "    </tr>\n",
       "    <tr>\n",
       "      <th>6464</th>\n",
       "      <td>Zimbabwe</td>\n",
       "      <td>2014</td>\n",
       "      <td>0.155993</td>\n",
       "      <td>0.608610</td>\n",
       "      <td>0.118073</td>\n",
       "      <td>3.093964</td>\n",
       "      <td>3.140290</td>\n",
       "      <td>0.768914</td>\n",
       "      <td>1.515470</td>\n",
       "    </tr>\n",
       "    <tr>\n",
       "      <th>6465</th>\n",
       "      <td>Zimbabwe</td>\n",
       "      <td>2015</td>\n",
       "      <td>0.156465</td>\n",
       "      <td>0.609363</td>\n",
       "      <td>0.119470</td>\n",
       "      <td>3.098687</td>\n",
       "      <td>3.155710</td>\n",
       "      <td>0.771802</td>\n",
       "      <td>1.514751</td>\n",
       "    </tr>\n",
       "    <tr>\n",
       "      <th>6466</th>\n",
       "      <td>Zimbabwe</td>\n",
       "      <td>2016</td>\n",
       "      <td>0.157111</td>\n",
       "      <td>0.610234</td>\n",
       "      <td>0.121456</td>\n",
       "      <td>3.104294</td>\n",
       "      <td>3.174134</td>\n",
       "      <td>0.772275</td>\n",
       "      <td>1.513269</td>\n",
       "    </tr>\n",
       "    <tr>\n",
       "      <th>6467</th>\n",
       "      <td>Zimbabwe</td>\n",
       "      <td>2017</td>\n",
       "      <td>0.157963</td>\n",
       "      <td>0.611242</td>\n",
       "      <td>0.124443</td>\n",
       "      <td>3.110926</td>\n",
       "      <td>3.192789</td>\n",
       "      <td>0.772648</td>\n",
       "      <td>1.510943</td>\n",
       "    </tr>\n",
       "  </tbody>\n",
       "</table>\n",
       "<p>6468 rows × 9 columns</p>\n",
       "</div>"
      ],
      "text/plain": [
       "           Entity  Year  Schizophrenia (%)  Bipolar disorder (%)  \\\n",
       "0     Afghanistan  1990           0.160560              0.697779   \n",
       "1     Afghanistan  1991           0.160312              0.697961   \n",
       "2     Afghanistan  1992           0.160135              0.698107   \n",
       "3     Afghanistan  1993           0.160037              0.698257   \n",
       "4     Afghanistan  1994           0.160022              0.698469   \n",
       "...           ...   ...                ...                   ...   \n",
       "6463     Zimbabwe  2013           0.155670              0.607993   \n",
       "6464     Zimbabwe  2014           0.155993              0.608610   \n",
       "6465     Zimbabwe  2015           0.156465              0.609363   \n",
       "6466     Zimbabwe  2016           0.157111              0.610234   \n",
       "6467     Zimbabwe  2017           0.157963              0.611242   \n",
       "\n",
       "      Eating disorders (%)  Anxiety disorders (%)  Depression (%)  \\\n",
       "0                 0.101855               4.828830        4.071831   \n",
       "1                 0.099313               4.829740        4.079531   \n",
       "2                 0.096692               4.831108        4.088358   \n",
       "3                 0.094336               4.830864        4.096190   \n",
       "4                 0.092439               4.829423        4.099582   \n",
       "...                    ...                    ...             ...   \n",
       "6463              0.117248               3.090168        3.128192   \n",
       "6464              0.118073               3.093964        3.140290   \n",
       "6465              0.119470               3.098687        3.155710   \n",
       "6466              0.121456               3.104294        3.174134   \n",
       "6467              0.124443               3.110926        3.192789   \n",
       "\n",
       "      Drug use disorders (%)  Alcohol use disorders (%)  \n",
       "0                   1.677082                   0.672404  \n",
       "1                   1.684746                   0.671768  \n",
       "2                   1.694334                   0.670644  \n",
       "3                   1.705320                   0.669738  \n",
       "4                   1.716069                   0.669260  \n",
       "...                      ...                        ...  \n",
       "6463                0.766280                   1.515641  \n",
       "6464                0.768914                   1.515470  \n",
       "6465                0.771802                   1.514751  \n",
       "6466                0.772275                   1.513269  \n",
       "6467                0.772648                   1.510943  \n",
       "\n",
       "[6468 rows x 9 columns]"
      ]
     },
     "execution_count": 103,
     "metadata": {},
     "output_type": "execute_result"
    }
   ],
   "source": [
    "# Merging DataFrame into one and display the DataFrame containing disorders\n",
    "disorders = pd.merge(MA_disorders, DA_dependance, on=['Entity','Year'], how='inner')\n",
    "disorders"
   ]
  },
  {
   "cell_type": "markdown",
   "metadata": {
    "deletable": false
   },
   "source": [
    "## Requirement FR7 - Explore the dataset to identify an \"interesting\" pattern or trend"
   ]
  },
  {
   "cell_type": "markdown",
   "metadata": {},
   "source": [
    "After merging the data from MA_disorders and DA_dependance into a single DataFrame named *Disorders*, I observed that the first column of the DataFrame, denoted as *Entity*, comprise various variables such as countries, regions, diiferent types of SDI, and a variable labeled \"world,\" among others. This diverse range of entities complicates the analysis becuase it will be hard to identify unique trends. To streamline my focus, I narrowing down the scope to include only the variables with SDI only. That is, variables of The Socio-Demographic Index (SDI) which is a composite indicator of development status that is strongly correlated with health outcomes.\n"
   ]
  },
  {
   "cell_type": "code",
   "execution_count": 104,
   "metadata": {},
   "outputs": [
    {
     "data": {
      "text/html": [
       "<div>\n",
       "<style scoped>\n",
       "    .dataframe tbody tr th:only-of-type {\n",
       "        vertical-align: middle;\n",
       "    }\n",
       "\n",
       "    .dataframe tbody tr th {\n",
       "        vertical-align: top;\n",
       "    }\n",
       "\n",
       "    .dataframe thead th {\n",
       "        text-align: right;\n",
       "    }\n",
       "</style>\n",
       "<table border=\"1\" class=\"dataframe\">\n",
       "  <thead>\n",
       "    <tr style=\"text-align: right;\">\n",
       "      <th></th>\n",
       "      <th>Entity</th>\n",
       "      <th>Year</th>\n",
       "      <th>Schizophrenia (%)</th>\n",
       "      <th>Bipolar disorder (%)</th>\n",
       "      <th>Eating disorders (%)</th>\n",
       "      <th>Anxiety disorders (%)</th>\n",
       "      <th>Depression (%)</th>\n",
       "      <th>Drug use disorders (%)</th>\n",
       "      <th>Alcohol use disorders (%)</th>\n",
       "    </tr>\n",
       "  </thead>\n",
       "  <tbody>\n",
       "    <tr>\n",
       "      <th>2464</th>\n",
       "      <td>High SDI</td>\n",
       "      <td>1990</td>\n",
       "      <td>0.286511</td>\n",
       "      <td>0.758063</td>\n",
       "      <td>0.425878</td>\n",
       "      <td>5.257943</td>\n",
       "      <td>3.891438</td>\n",
       "      <td>1.373228</td>\n",
       "      <td>1.557669</td>\n",
       "    </tr>\n",
       "    <tr>\n",
       "      <th>2465</th>\n",
       "      <td>High SDI</td>\n",
       "      <td>1991</td>\n",
       "      <td>0.286396</td>\n",
       "      <td>0.758071</td>\n",
       "      <td>0.429845</td>\n",
       "      <td>5.262282</td>\n",
       "      <td>3.879263</td>\n",
       "      <td>1.368516</td>\n",
       "      <td>1.554681</td>\n",
       "    </tr>\n",
       "    <tr>\n",
       "      <th>2466</th>\n",
       "      <td>High SDI</td>\n",
       "      <td>1992</td>\n",
       "      <td>0.286352</td>\n",
       "      <td>0.758082</td>\n",
       "      <td>0.433759</td>\n",
       "      <td>5.267090</td>\n",
       "      <td>3.869450</td>\n",
       "      <td>1.369511</td>\n",
       "      <td>1.551486</td>\n",
       "    </tr>\n",
       "    <tr>\n",
       "      <th>2467</th>\n",
       "      <td>High SDI</td>\n",
       "      <td>1993</td>\n",
       "      <td>0.286390</td>\n",
       "      <td>0.758036</td>\n",
       "      <td>0.437558</td>\n",
       "      <td>5.271368</td>\n",
       "      <td>3.861910</td>\n",
       "      <td>1.375248</td>\n",
       "      <td>1.548341</td>\n",
       "    </tr>\n",
       "    <tr>\n",
       "      <th>2468</th>\n",
       "      <td>High SDI</td>\n",
       "      <td>1994</td>\n",
       "      <td>0.286530</td>\n",
       "      <td>0.757898</td>\n",
       "      <td>0.441042</td>\n",
       "      <td>5.275131</td>\n",
       "      <td>3.857080</td>\n",
       "      <td>1.384936</td>\n",
       "      <td>1.545733</td>\n",
       "    </tr>\n",
       "    <tr>\n",
       "      <th>...</th>\n",
       "      <td>...</td>\n",
       "      <td>...</td>\n",
       "      <td>...</td>\n",
       "      <td>...</td>\n",
       "      <td>...</td>\n",
       "      <td>...</td>\n",
       "      <td>...</td>\n",
       "      <td>...</td>\n",
       "      <td>...</td>\n",
       "    </tr>\n",
       "    <tr>\n",
       "      <th>3747</th>\n",
       "      <td>Middle SDI</td>\n",
       "      <td>2013</td>\n",
       "      <td>0.259923</td>\n",
       "      <td>0.541672</td>\n",
       "      <td>0.171834</td>\n",
       "      <td>3.355515</td>\n",
       "      <td>3.185119</td>\n",
       "      <td>0.821044</td>\n",
       "      <td>1.249178</td>\n",
       "    </tr>\n",
       "    <tr>\n",
       "      <th>3748</th>\n",
       "      <td>Middle SDI</td>\n",
       "      <td>2014</td>\n",
       "      <td>0.259997</td>\n",
       "      <td>0.543342</td>\n",
       "      <td>0.174989</td>\n",
       "      <td>3.351755</td>\n",
       "      <td>3.182369</td>\n",
       "      <td>0.824338</td>\n",
       "      <td>1.247850</td>\n",
       "    </tr>\n",
       "    <tr>\n",
       "      <th>3749</th>\n",
       "      <td>Middle SDI</td>\n",
       "      <td>2015</td>\n",
       "      <td>0.260042</td>\n",
       "      <td>0.545033</td>\n",
       "      <td>0.178082</td>\n",
       "      <td>3.348000</td>\n",
       "      <td>3.179851</td>\n",
       "      <td>0.828643</td>\n",
       "      <td>1.246061</td>\n",
       "    </tr>\n",
       "    <tr>\n",
       "      <th>3750</th>\n",
       "      <td>Middle SDI</td>\n",
       "      <td>2016</td>\n",
       "      <td>0.260077</td>\n",
       "      <td>0.546770</td>\n",
       "      <td>0.181277</td>\n",
       "      <td>3.344933</td>\n",
       "      <td>3.178343</td>\n",
       "      <td>0.834179</td>\n",
       "      <td>1.243884</td>\n",
       "    </tr>\n",
       "    <tr>\n",
       "      <th>3751</th>\n",
       "      <td>Middle SDI</td>\n",
       "      <td>2017</td>\n",
       "      <td>0.260102</td>\n",
       "      <td>0.548530</td>\n",
       "      <td>0.184486</td>\n",
       "      <td>3.342456</td>\n",
       "      <td>3.177827</td>\n",
       "      <td>0.840859</td>\n",
       "      <td>1.241516</td>\n",
       "    </tr>\n",
       "  </tbody>\n",
       "</table>\n",
       "<p>140 rows × 9 columns</p>\n",
       "</div>"
      ],
      "text/plain": [
       "          Entity  Year  Schizophrenia (%)  Bipolar disorder (%)  \\\n",
       "2464    High SDI  1990           0.286511              0.758063   \n",
       "2465    High SDI  1991           0.286396              0.758071   \n",
       "2466    High SDI  1992           0.286352              0.758082   \n",
       "2467    High SDI  1993           0.286390              0.758036   \n",
       "2468    High SDI  1994           0.286530              0.757898   \n",
       "...          ...   ...                ...                   ...   \n",
       "3747  Middle SDI  2013           0.259923              0.541672   \n",
       "3748  Middle SDI  2014           0.259997              0.543342   \n",
       "3749  Middle SDI  2015           0.260042              0.545033   \n",
       "3750  Middle SDI  2016           0.260077              0.546770   \n",
       "3751  Middle SDI  2017           0.260102              0.548530   \n",
       "\n",
       "      Eating disorders (%)  Anxiety disorders (%)  Depression (%)  \\\n",
       "2464              0.425878               5.257943        3.891438   \n",
       "2465              0.429845               5.262282        3.879263   \n",
       "2466              0.433759               5.267090        3.869450   \n",
       "2467              0.437558               5.271368        3.861910   \n",
       "2468              0.441042               5.275131        3.857080   \n",
       "...                    ...                    ...             ...   \n",
       "3747              0.171834               3.355515        3.185119   \n",
       "3748              0.174989               3.351755        3.182369   \n",
       "3749              0.178082               3.348000        3.179851   \n",
       "3750              0.181277               3.344933        3.178343   \n",
       "3751              0.184486               3.342456        3.177827   \n",
       "\n",
       "      Drug use disorders (%)  Alcohol use disorders (%)  \n",
       "2464                1.373228                   1.557669  \n",
       "2465                1.368516                   1.554681  \n",
       "2466                1.369511                   1.551486  \n",
       "2467                1.375248                   1.548341  \n",
       "2468                1.384936                   1.545733  \n",
       "...                      ...                        ...  \n",
       "3747                0.821044                   1.249178  \n",
       "3748                0.824338                   1.247850  \n",
       "3749                0.828643                   1.246061  \n",
       "3750                0.834179                   1.243884  \n",
       "3751                0.840859                   1.241516  \n",
       "\n",
       "[140 rows x 9 columns]"
      ]
     },
     "execution_count": 104,
     "metadata": {},
     "output_type": "execute_result"
    }
   ],
   "source": [
    "# List of all the SDI in world\n",
    "SDI_disorders = ['High SDI', 'High-middle SDI', 'Low SDI' ,'Low-middle SDI', 'Middle SDI']\n",
    "\n",
    "# Creating new variable name and selecting rows corresponding to World_region\n",
    "SDI_disorders = disorders[disorders['Entity'].isin(SDI_disorders)]\n",
    "\n",
    "# display the DataFrame containing regions\n",
    "SDI_disorders"
   ]
  },
  {
   "cell_type": "code",
   "execution_count": 105,
   "metadata": {},
   "outputs": [
    {
     "data": {
      "text/plain": [
       "array(['High SDI', 'High-middle SDI', 'Low SDI', 'Low-middle SDI',\n",
       "       'Middle SDI'], dtype=object)"
      ]
     },
     "execution_count": 105,
     "metadata": {},
     "output_type": "execute_result"
    }
   ],
   "source": [
    "#check for unique variables\n",
    "SDI_disorders['Entity'].unique()"
   ]
  },
  {
   "cell_type": "markdown",
   "metadata": {
    "deletable": false
   },
   "source": [
    "#### Data Cleaning and Preparation\n",
    "We are now ready to clean and prepare the data for the exploratory phase."
   ]
  },
  {
   "cell_type": "code",
   "execution_count": 106,
   "metadata": {},
   "outputs": [
    {
     "name": "stdout",
     "output_type": "stream",
     "text": [
      "<class 'pandas.core.frame.DataFrame'>\n",
      "Index: 140 entries, 2464 to 3751\n",
      "Data columns (total 9 columns):\n",
      " #   Column                     Non-Null Count  Dtype  \n",
      "---  ------                     --------------  -----  \n",
      " 0   Entity                     140 non-null    object \n",
      " 1   Year                       140 non-null    int64  \n",
      " 2   Schizophrenia (%)          140 non-null    float64\n",
      " 3   Bipolar disorder (%)       140 non-null    float64\n",
      " 4   Eating disorders (%)       140 non-null    float64\n",
      " 5   Anxiety disorders (%)      140 non-null    float64\n",
      " 6   Depression (%)             140 non-null    float64\n",
      " 7   Drug use disorders (%)     140 non-null    float64\n",
      " 8   Alcohol use disorders (%)  140 non-null    float64\n",
      "dtypes: float64(7), int64(1), object(1)\n",
      "memory usage: 10.9+ KB\n",
      "None\n"
     ]
    }
   ],
   "source": [
    "# check SDI_disorders data types\n",
    "print(SDI_disorders.info())"
   ]
  },
  {
   "cell_type": "code",
   "execution_count": 107,
   "metadata": {},
   "outputs": [
    {
     "name": "stdout",
     "output_type": "stream",
     "text": [
      "There are 0 duplicated rows in the Socio-demographic Index (SDI) disorders dataset\n"
     ]
    }
   ],
   "source": [
    "# check for duplicates\n",
    "\n",
    "disorders_dupli = SDI_disorders[SDI_disorders.duplicated()]\n",
    "print('There are', len(disorders_dupli), 'duplicated rows in the Socio-demographic Index (SDI) disorders dataset')"
   ]
  },
  {
   "cell_type": "markdown",
   "metadata": {},
   "source": [
    "The Socio-demographic Index (SDI) disorders dataset has no duplicated rows that need to be removed to avoid wrong statistical computations."
   ]
  },
  {
   "cell_type": "markdown",
   "metadata": {},
   "source": [
    "#### Missing values\n",
    "I will be using Pandas isnull() in combination with sum() method to find the missing values in my dataset and counting them in total."
   ]
  },
  {
   "cell_type": "code",
   "execution_count": 108,
   "metadata": {},
   "outputs": [
    {
     "name": "stdout",
     "output_type": "stream",
     "text": [
      "Entity                       0\n",
      "Year                         0\n",
      "Schizophrenia (%)            0\n",
      "Bipolar disorder (%)         0\n",
      "Eating disorders (%)         0\n",
      "Anxiety disorders (%)        0\n",
      "Depression (%)               0\n",
      "Drug use disorders (%)       0\n",
      "Alcohol use disorders (%)    0\n",
      "dtype: int64\n"
     ]
    }
   ],
   "source": [
    "# Checking for null values in the SDI_disorders\n",
    "null_values = SDI_disorders.isnull().sum()\n",
    "\n",
    "# Displaying the DataFrame with null values\n",
    "print(null_values)"
   ]
  },
  {
   "cell_type": "markdown",
   "metadata": {},
   "source": [
    "There are no missing values in our dataset."
   ]
  },
  {
   "cell_type": "code",
   "execution_count": 109,
   "metadata": {
    "scrolled": true
   },
   "outputs": [
    {
     "data": {
      "text/html": [
       "<div>\n",
       "<style scoped>\n",
       "    .dataframe tbody tr th:only-of-type {\n",
       "        vertical-align: middle;\n",
       "    }\n",
       "\n",
       "    .dataframe tbody tr th {\n",
       "        vertical-align: top;\n",
       "    }\n",
       "\n",
       "    .dataframe thead th {\n",
       "        text-align: right;\n",
       "    }\n",
       "</style>\n",
       "<table border=\"1\" class=\"dataframe\">\n",
       "  <thead>\n",
       "    <tr style=\"text-align: right;\">\n",
       "      <th></th>\n",
       "      <th>Entity</th>\n",
       "      <th>Year</th>\n",
       "      <th>Schizophrenia (%)</th>\n",
       "      <th>Bipolar disorder (%)</th>\n",
       "      <th>Eating disorders (%)</th>\n",
       "      <th>Anxiety disorders (%)</th>\n",
       "      <th>Depression (%)</th>\n",
       "      <th>Drug use disorders (%)</th>\n",
       "      <th>Alcohol use disorders (%)</th>\n",
       "    </tr>\n",
       "  </thead>\n",
       "  <tbody>\n",
       "    <tr>\n",
       "      <th>2464</th>\n",
       "      <td>High SDI</td>\n",
       "      <td>1990</td>\n",
       "      <td>0.286511</td>\n",
       "      <td>0.758063</td>\n",
       "      <td>0.425878</td>\n",
       "      <td>5.257943</td>\n",
       "      <td>3.891438</td>\n",
       "      <td>1.373228</td>\n",
       "      <td>1.557669</td>\n",
       "    </tr>\n",
       "    <tr>\n",
       "      <th>2465</th>\n",
       "      <td>High SDI</td>\n",
       "      <td>1991</td>\n",
       "      <td>0.286396</td>\n",
       "      <td>0.758071</td>\n",
       "      <td>0.429845</td>\n",
       "      <td>5.262282</td>\n",
       "      <td>3.879263</td>\n",
       "      <td>1.368516</td>\n",
       "      <td>1.554681</td>\n",
       "    </tr>\n",
       "    <tr>\n",
       "      <th>2466</th>\n",
       "      <td>High SDI</td>\n",
       "      <td>1992</td>\n",
       "      <td>0.286352</td>\n",
       "      <td>0.758082</td>\n",
       "      <td>0.433759</td>\n",
       "      <td>5.267090</td>\n",
       "      <td>3.869450</td>\n",
       "      <td>1.369511</td>\n",
       "      <td>1.551486</td>\n",
       "    </tr>\n",
       "    <tr>\n",
       "      <th>2467</th>\n",
       "      <td>High SDI</td>\n",
       "      <td>1993</td>\n",
       "      <td>0.286390</td>\n",
       "      <td>0.758036</td>\n",
       "      <td>0.437558</td>\n",
       "      <td>5.271368</td>\n",
       "      <td>3.861910</td>\n",
       "      <td>1.375248</td>\n",
       "      <td>1.548341</td>\n",
       "    </tr>\n",
       "    <tr>\n",
       "      <th>2468</th>\n",
       "      <td>High SDI</td>\n",
       "      <td>1994</td>\n",
       "      <td>0.286530</td>\n",
       "      <td>0.757898</td>\n",
       "      <td>0.441042</td>\n",
       "      <td>5.275131</td>\n",
       "      <td>3.857080</td>\n",
       "      <td>1.384936</td>\n",
       "      <td>1.545733</td>\n",
       "    </tr>\n",
       "  </tbody>\n",
       "</table>\n",
       "</div>"
      ],
      "text/plain": [
       "        Entity  Year  Schizophrenia (%)  Bipolar disorder (%)  \\\n",
       "2464  High SDI  1990           0.286511              0.758063   \n",
       "2465  High SDI  1991           0.286396              0.758071   \n",
       "2466  High SDI  1992           0.286352              0.758082   \n",
       "2467  High SDI  1993           0.286390              0.758036   \n",
       "2468  High SDI  1994           0.286530              0.757898   \n",
       "\n",
       "      Eating disorders (%)  Anxiety disorders (%)  Depression (%)  \\\n",
       "2464              0.425878               5.257943        3.891438   \n",
       "2465              0.429845               5.262282        3.879263   \n",
       "2466              0.433759               5.267090        3.869450   \n",
       "2467              0.437558               5.271368        3.861910   \n",
       "2468              0.441042               5.275131        3.857080   \n",
       "\n",
       "      Drug use disorders (%)  Alcohol use disorders (%)  \n",
       "2464                1.373228                   1.557669  \n",
       "2465                1.368516                   1.554681  \n",
       "2466                1.369511                   1.551486  \n",
       "2467                1.375248                   1.548341  \n",
       "2468                1.384936                   1.545733  "
      ]
     },
     "execution_count": 109,
     "metadata": {},
     "output_type": "execute_result"
    }
   ],
   "source": [
    "# Displays the first five roes of Socio-demographic Index (SDI) disorders dataset\n",
    "SDI_disorders.head()"
   ]
  },
  {
   "cell_type": "code",
   "execution_count": 110,
   "metadata": {},
   "outputs": [
    {
     "data": {
      "text/html": [
       "<div>\n",
       "<style scoped>\n",
       "    .dataframe tbody tr th:only-of-type {\n",
       "        vertical-align: middle;\n",
       "    }\n",
       "\n",
       "    .dataframe tbody tr th {\n",
       "        vertical-align: top;\n",
       "    }\n",
       "\n",
       "    .dataframe thead th {\n",
       "        text-align: right;\n",
       "    }\n",
       "</style>\n",
       "<table border=\"1\" class=\"dataframe\">\n",
       "  <thead>\n",
       "    <tr style=\"text-align: right;\">\n",
       "      <th></th>\n",
       "      <th>Year</th>\n",
       "      <th>Entity</th>\n",
       "      <th>Drug use disorders (%)</th>\n",
       "    </tr>\n",
       "  </thead>\n",
       "  <tbody>\n",
       "    <tr>\n",
       "      <th>0</th>\n",
       "      <td>1990</td>\n",
       "      <td>High SDI</td>\n",
       "      <td>1.373228</td>\n",
       "    </tr>\n",
       "    <tr>\n",
       "      <th>1</th>\n",
       "      <td>1990</td>\n",
       "      <td>High-middle SDI</td>\n",
       "      <td>0.967014</td>\n",
       "    </tr>\n",
       "    <tr>\n",
       "      <th>2</th>\n",
       "      <td>1990</td>\n",
       "      <td>Low SDI</td>\n",
       "      <td>0.514759</td>\n",
       "    </tr>\n",
       "    <tr>\n",
       "      <th>3</th>\n",
       "      <td>1990</td>\n",
       "      <td>Low-middle SDI</td>\n",
       "      <td>0.691031</td>\n",
       "    </tr>\n",
       "    <tr>\n",
       "      <th>4</th>\n",
       "      <td>1990</td>\n",
       "      <td>Middle SDI</td>\n",
       "      <td>0.892063</td>\n",
       "    </tr>\n",
       "    <tr>\n",
       "      <th>...</th>\n",
       "      <td>...</td>\n",
       "      <td>...</td>\n",
       "      <td>...</td>\n",
       "    </tr>\n",
       "    <tr>\n",
       "      <th>135</th>\n",
       "      <td>2017</td>\n",
       "      <td>High SDI</td>\n",
       "      <td>1.842886</td>\n",
       "    </tr>\n",
       "    <tr>\n",
       "      <th>136</th>\n",
       "      <td>2017</td>\n",
       "      <td>High-middle SDI</td>\n",
       "      <td>1.140474</td>\n",
       "    </tr>\n",
       "    <tr>\n",
       "      <th>137</th>\n",
       "      <td>2017</td>\n",
       "      <td>Low SDI</td>\n",
       "      <td>0.581596</td>\n",
       "    </tr>\n",
       "    <tr>\n",
       "      <th>138</th>\n",
       "      <td>2017</td>\n",
       "      <td>Low-middle SDI</td>\n",
       "      <td>0.727076</td>\n",
       "    </tr>\n",
       "    <tr>\n",
       "      <th>139</th>\n",
       "      <td>2017</td>\n",
       "      <td>Middle SDI</td>\n",
       "      <td>0.840859</td>\n",
       "    </tr>\n",
       "  </tbody>\n",
       "</table>\n",
       "<p>140 rows × 3 columns</p>\n",
       "</div>"
      ],
      "text/plain": [
       "     Year           Entity  Drug use disorders (%)\n",
       "0    1990         High SDI                1.373228\n",
       "1    1990  High-middle SDI                0.967014\n",
       "2    1990          Low SDI                0.514759\n",
       "3    1990   Low-middle SDI                0.691031\n",
       "4    1990       Middle SDI                0.892063\n",
       "..    ...              ...                     ...\n",
       "135  2017         High SDI                1.842886\n",
       "136  2017  High-middle SDI                1.140474\n",
       "137  2017          Low SDI                0.581596\n",
       "138  2017   Low-middle SDI                0.727076\n",
       "139  2017       Middle SDI                0.840859\n",
       "\n",
       "[140 rows x 3 columns]"
      ]
     },
     "execution_count": 110,
     "metadata": {},
     "output_type": "execute_result"
    }
   ],
   "source": [
    "# Grouping SDI_disorders data by 'Year' and 'Entity' and calculate the sum of 'Drug use disorders (%)' within each group\n",
    "\n",
    "LL = SDI_disorders.groupby(['Year',\"Entity\"])['Drug use disorders (%)'].sum()\n",
    "LL = LL.reset_index()\n",
    "LL"
   ]
  },
  {
   "cell_type": "code",
   "execution_count": 111,
   "metadata": {},
   "outputs": [
    {
     "data": {
      "text/html": [
       "<div>\n",
       "<style scoped>\n",
       "    .dataframe tbody tr th:only-of-type {\n",
       "        vertical-align: middle;\n",
       "    }\n",
       "\n",
       "    .dataframe tbody tr th {\n",
       "        vertical-align: top;\n",
       "    }\n",
       "\n",
       "    .dataframe thead th {\n",
       "        text-align: right;\n",
       "    }\n",
       "</style>\n",
       "<table border=\"1\" class=\"dataframe\">\n",
       "  <thead>\n",
       "    <tr style=\"text-align: right;\">\n",
       "      <th></th>\n",
       "      <th>Year</th>\n",
       "      <th>Entity</th>\n",
       "      <th>Alcohol use disorders (%)</th>\n",
       "    </tr>\n",
       "  </thead>\n",
       "  <tbody>\n",
       "    <tr>\n",
       "      <th>0</th>\n",
       "      <td>1990</td>\n",
       "      <td>High SDI</td>\n",
       "      <td>1.557669</td>\n",
       "    </tr>\n",
       "    <tr>\n",
       "      <th>1</th>\n",
       "      <td>1990</td>\n",
       "      <td>High-middle SDI</td>\n",
       "      <td>2.020416</td>\n",
       "    </tr>\n",
       "    <tr>\n",
       "      <th>2</th>\n",
       "      <td>1990</td>\n",
       "      <td>Low SDI</td>\n",
       "      <td>1.334723</td>\n",
       "    </tr>\n",
       "    <tr>\n",
       "      <th>3</th>\n",
       "      <td>1990</td>\n",
       "      <td>Low-middle SDI</td>\n",
       "      <td>1.322809</td>\n",
       "    </tr>\n",
       "    <tr>\n",
       "      <th>4</th>\n",
       "      <td>1990</td>\n",
       "      <td>Middle SDI</td>\n",
       "      <td>1.122960</td>\n",
       "    </tr>\n",
       "    <tr>\n",
       "      <th>...</th>\n",
       "      <td>...</td>\n",
       "      <td>...</td>\n",
       "      <td>...</td>\n",
       "    </tr>\n",
       "    <tr>\n",
       "      <th>135</th>\n",
       "      <td>2017</td>\n",
       "      <td>High SDI</td>\n",
       "      <td>1.586340</td>\n",
       "    </tr>\n",
       "    <tr>\n",
       "      <th>136</th>\n",
       "      <td>2017</td>\n",
       "      <td>High-middle SDI</td>\n",
       "      <td>1.805940</td>\n",
       "    </tr>\n",
       "    <tr>\n",
       "      <th>137</th>\n",
       "      <td>2017</td>\n",
       "      <td>Low SDI</td>\n",
       "      <td>1.265128</td>\n",
       "    </tr>\n",
       "    <tr>\n",
       "      <th>138</th>\n",
       "      <td>2017</td>\n",
       "      <td>Low-middle SDI</td>\n",
       "      <td>1.273662</td>\n",
       "    </tr>\n",
       "    <tr>\n",
       "      <th>139</th>\n",
       "      <td>2017</td>\n",
       "      <td>Middle SDI</td>\n",
       "      <td>1.241516</td>\n",
       "    </tr>\n",
       "  </tbody>\n",
       "</table>\n",
       "<p>140 rows × 3 columns</p>\n",
       "</div>"
      ],
      "text/plain": [
       "     Year           Entity  Alcohol use disorders (%)\n",
       "0    1990         High SDI                   1.557669\n",
       "1    1990  High-middle SDI                   2.020416\n",
       "2    1990          Low SDI                   1.334723\n",
       "3    1990   Low-middle SDI                   1.322809\n",
       "4    1990       Middle SDI                   1.122960\n",
       "..    ...              ...                        ...\n",
       "135  2017         High SDI                   1.586340\n",
       "136  2017  High-middle SDI                   1.805940\n",
       "137  2017          Low SDI                   1.265128\n",
       "138  2017   Low-middle SDI                   1.273662\n",
       "139  2017       Middle SDI                   1.241516\n",
       "\n",
       "[140 rows x 3 columns]"
      ]
     },
     "execution_count": 111,
     "metadata": {},
     "output_type": "execute_result"
    }
   ],
   "source": [
    "# Grouping SDI_disorders data by 'Year' and 'Entity' and calculate the sum of 'Alcohol use disorders (%)' within each group\n",
    "\n",
    "LM = SDI_disorders.groupby(['Year',\"Entity\"])['Alcohol use disorders (%)'].sum()\n",
    "LM = LM.reset_index()\n",
    "LM"
   ]
  },
  {
   "cell_type": "markdown",
   "metadata": {},
   "source": [
    "### Data Visualisation\n",
    "\n",
    "#### Bar plot"
   ]
  },
  {
   "cell_type": "code",
   "execution_count": 112,
   "metadata": {},
   "outputs": [
    {
     "data": {
      "text/plain": [
       "<Axes: xlabel='Year', ylabel='Drug use disorders (%)'>"
      ]
     },
     "execution_count": 112,
     "metadata": {},
     "output_type": "execute_result"
    },
    {
     "data": {
      "image/png": "[encoded data removed]",
      "text/plain": [
       "<Figure size 2000x800 with 1 Axes>"
      ]
     },
     "metadata": {},
     "output_type": "display_data"
    }
   ],
   "source": [
    "# creating a barplot for Drug use disorders over the years\n",
    "\n",
    "plt.figure(figsize=(20, 8))\n",
    "sns.barplot(x='Year', y='Drug use disorders (%)', hue='Entity', data=LL)"
   ]
  },
  {
   "cell_type": "markdown",
   "metadata": {},
   "source": [
    "Bar plot Interpretation : The generated bar plot illustrates the Social-Demographic Index (SDI) of Drug use disorders across various years, specifically comparing entities categorized as high SDI to those with low SDI. Notably, the high SDI entity displays a consistent trend throughout the years, suggesting a sustained presence of Drug use disorders. In contrast, the countries within the low SDI entity exhibits less pronounced fluctuations in Drug use disorders, indicating a lack of substantial increases compare to countries within the high SDI."
   ]
  },
  {
   "cell_type": "code",
   "execution_count": 113,
   "metadata": {},
   "outputs": [
    {
     "data": {
      "text/plain": [
       "<Axes: xlabel='Year', ylabel='Alcohol use disorders (%)'>"
      ]
     },
     "execution_count": 113,
     "metadata": {},
     "output_type": "execute_result"
    },
    {
     "data": {
      "image/png": "[encoded data removed]",
      "text/plain": [
       "<Figure size 2000x800 with 1 Axes>"
      ]
     },
     "metadata": {},
     "output_type": "display_data"
    }
   ],
   "source": [
    "# creating a barplot of Alcohol use disorders over the years\n",
    "\n",
    "plt.figure(figsize=(20, 8))\n",
    "sns.barplot(x='Year', y='Alcohol use disorders (%)', hue='Entity', data=LM)"
   ]
  },
  {
   "cell_type": "markdown",
   "metadata": {},
   "source": [
    "Interpretation: The bar plot reveals a subtle decrease in Alcohol use disorders within entities categorized as high-middle Social-Demographic Index (SDI), while entities with high SDI demonstrate a consistent pattern across the years. This suggests that, over time, regions with a high-middle SDI experience a marginal decline in the prevalence of Alcohol use disorders, contrasting with the sustained levels observed in high SDI regions."
   ]
  },
  {
   "cell_type": "code",
   "execution_count": 114,
   "metadata": {},
   "outputs": [
    {
     "data": {
      "text/plain": [
       "<Axes: xlabel='Entity', ylabel='Anxiety disorders (%)'>"
      ]
     },
     "execution_count": 114,
     "metadata": {},
     "output_type": "execute_result"
    },
    {
     "data": {
      "image/png": "[encoded data removed]",
      "text/plain": [
       "<Figure size 1200x600 with 1 Axes>"
      ]
     },
     "metadata": {},
     "output_type": "display_data"
    }
   ],
   "source": [
    "# creating a boxplot to display the Anxiety disorders rate of all SDI's\n",
    "\n",
    "plt.figure(figsize=(12, 6))\n",
    "sns.boxplot(data=SDI_disorders,x='Entity',y='Anxiety disorders (%)')"
   ]
  },
  {
   "cell_type": "markdown",
   "metadata": {},
   "source": [
    "Interpretation: This observation emphasizes a potential correlation between the level of social and demographic development, as indicated by the SDI, and the prevalence of anxiety disorders across different countries.\n",
    "The box plot illustrates a distinct pattern where countries categorized as having a High Social-Demographic Index (SDI) exhibit higher prevalence of anxiety disorders compared to those in the middle SDI, where the occurrence of anxiety disorders is relatively lower."
   ]
  },
  {
   "cell_type": "code",
   "execution_count": 115,
   "metadata": {},
   "outputs": [],
   "source": [
    "#plt.figure(figsize=(12, 6))\n",
    "#sns.barplot(data=SDI_disorders, x='Entity', y='Depression (%)')"
   ]
  },
  {
   "cell_type": "markdown",
   "metadata": {},
   "source": [
    "Mean"
   ]
  },
  {
   "cell_type": "code",
   "execution_count": 116,
   "metadata": {},
   "outputs": [
    {
     "data": {
      "text/plain": [
       "Year                         2003.500000\n",
       "Schizophrenia (%)               0.251837\n",
       "Bipolar disorder (%)            0.607802\n",
       "Eating disorders (%)            0.207620\n",
       "Anxiety disorders (%)           3.909072\n",
       "Depression (%)                  3.652337\n",
       "Drug use disorders (%)          0.948739\n",
       "Alcohol use disorders (%)       1.488086\n",
       "dtype: float64"
      ]
     },
     "execution_count": 116,
     "metadata": {},
     "output_type": "execute_result"
    }
   ],
   "source": [
    "# Using pandas the agg function to calculate mean by grouping on 'Entity' and 'Year' and sum them\n",
    "\n",
    "#SDI_mean = SDI_disorders.groupby(['Entity', 'Year']).agg({'Schizophrenia (%)': 'mean', 'Bipolar disorder (%)': 'mean', 'Eating disorders (%)': 'mean', 'Drug use disorders (%)': 'mean', 'Depression (%)': 'mean', 'Anxiety disorders (%)': 'mean', 'Alcohol use disorders (%)': 'mean'}).sum()\n",
    "\n",
    "SDI_mean = SDI_disorders.set_index('Entity').mean()\n",
    "SDI_mean"
   ]
  },
  {
   "cell_type": "markdown",
   "metadata": {},
   "source": [
    "This indicates that the **.mean()** function has been employed to compute the average rate of each disorder over the years, as demonstrated in the previous analysis. Notably, the results reveal that both **anxiety disorders and depression** consistently exhibit the highest means across the examined time frame."
   ]
  },
  {
   "cell_type": "markdown",
   "metadata": {},
   "source": [
    "### Correlation"
   ]
  },
  {
   "cell_type": "code",
   "execution_count": 117,
   "metadata": {},
   "outputs": [
    {
     "data": {
      "text/html": [
       "<div>\n",
       "<style scoped>\n",
       "    .dataframe tbody tr th:only-of-type {\n",
       "        vertical-align: middle;\n",
       "    }\n",
       "\n",
       "    .dataframe tbody tr th {\n",
       "        vertical-align: top;\n",
       "    }\n",
       "\n",
       "    .dataframe thead th {\n",
       "        text-align: right;\n",
       "    }\n",
       "</style>\n",
       "<table border=\"1\" class=\"dataframe\">\n",
       "  <thead>\n",
       "    <tr style=\"text-align: right;\">\n",
       "      <th></th>\n",
       "      <th>Schizophrenia (%)</th>\n",
       "      <th>Bipolar disorder (%)</th>\n",
       "      <th>Eating disorders (%)</th>\n",
       "      <th>Drug use disorders (%)</th>\n",
       "      <th>Depression (%)</th>\n",
       "      <th>Anxiety disorders (%)</th>\n",
       "      <th>Alcohol use disorders (%)</th>\n",
       "    </tr>\n",
       "  </thead>\n",
       "  <tbody>\n",
       "    <tr>\n",
       "      <th>Schizophrenia (%)</th>\n",
       "      <td>1.000000</td>\n",
       "      <td>0.514582</td>\n",
       "      <td>0.825915</td>\n",
       "      <td>0.935469</td>\n",
       "      <td>-0.006729</td>\n",
       "      <td>0.722974</td>\n",
       "      <td>0.435655</td>\n",
       "    </tr>\n",
       "    <tr>\n",
       "      <th>Bipolar disorder (%)</th>\n",
       "      <td>0.514582</td>\n",
       "      <td>1.000000</td>\n",
       "      <td>0.897638</td>\n",
       "      <td>0.743943</td>\n",
       "      <td>0.715842</td>\n",
       "      <td>0.958216</td>\n",
       "      <td>0.148147</td>\n",
       "    </tr>\n",
       "    <tr>\n",
       "      <th>Eating disorders (%)</th>\n",
       "      <td>0.825915</td>\n",
       "      <td>0.897638</td>\n",
       "      <td>1.000000</td>\n",
       "      <td>0.948725</td>\n",
       "      <td>0.414622</td>\n",
       "      <td>0.976499</td>\n",
       "      <td>0.259251</td>\n",
       "    </tr>\n",
       "    <tr>\n",
       "      <th>Drug use disorders (%)</th>\n",
       "      <td>0.935469</td>\n",
       "      <td>0.743943</td>\n",
       "      <td>0.948725</td>\n",
       "      <td>1.000000</td>\n",
       "      <td>0.284554</td>\n",
       "      <td>0.894257</td>\n",
       "      <td>0.427205</td>\n",
       "    </tr>\n",
       "    <tr>\n",
       "      <th>Depression (%)</th>\n",
       "      <td>-0.006729</td>\n",
       "      <td>0.715842</td>\n",
       "      <td>0.414622</td>\n",
       "      <td>0.284554</td>\n",
       "      <td>1.000000</td>\n",
       "      <td>0.581326</td>\n",
       "      <td>0.287092</td>\n",
       "    </tr>\n",
       "    <tr>\n",
       "      <th>Anxiety disorders (%)</th>\n",
       "      <td>0.722974</td>\n",
       "      <td>0.958216</td>\n",
       "      <td>0.976499</td>\n",
       "      <td>0.894257</td>\n",
       "      <td>0.581326</td>\n",
       "      <td>1.000000</td>\n",
       "      <td>0.283493</td>\n",
       "    </tr>\n",
       "    <tr>\n",
       "      <th>Alcohol use disorders (%)</th>\n",
       "      <td>0.435655</td>\n",
       "      <td>0.148147</td>\n",
       "      <td>0.259251</td>\n",
       "      <td>0.427205</td>\n",
       "      <td>0.287092</td>\n",
       "      <td>0.283493</td>\n",
       "      <td>1.000000</td>\n",
       "    </tr>\n",
       "  </tbody>\n",
       "</table>\n",
       "</div>"
      ],
      "text/plain": [
       "                           Schizophrenia (%)  Bipolar disorder (%)  \\\n",
       "Schizophrenia (%)                   1.000000              0.514582   \n",
       "Bipolar disorder (%)                0.514582              1.000000   \n",
       "Eating disorders (%)                0.825915              0.897638   \n",
       "Drug use disorders (%)              0.935469              0.743943   \n",
       "Depression (%)                     -0.006729              0.715842   \n",
       "Anxiety disorders (%)               0.722974              0.958216   \n",
       "Alcohol use disorders (%)           0.435655              0.148147   \n",
       "\n",
       "                           Eating disorders (%)  Drug use disorders (%)  \\\n",
       "Schizophrenia (%)                      0.825915                0.935469   \n",
       "Bipolar disorder (%)                   0.897638                0.743943   \n",
       "Eating disorders (%)                   1.000000                0.948725   \n",
       "Drug use disorders (%)                 0.948725                1.000000   \n",
       "Depression (%)                         0.414622                0.284554   \n",
       "Anxiety disorders (%)                  0.976499                0.894257   \n",
       "Alcohol use disorders (%)              0.259251                0.427205   \n",
       "\n",
       "                           Depression (%)  Anxiety disorders (%)  \\\n",
       "Schizophrenia (%)               -0.006729               0.722974   \n",
       "Bipolar disorder (%)             0.715842               0.958216   \n",
       "Eating disorders (%)             0.414622               0.976499   \n",
       "Drug use disorders (%)           0.284554               0.894257   \n",
       "Depression (%)                   1.000000               0.581326   \n",
       "Anxiety disorders (%)            0.581326               1.000000   \n",
       "Alcohol use disorders (%)        0.287092               0.283493   \n",
       "\n",
       "                           Alcohol use disorders (%)  \n",
       "Schizophrenia (%)                           0.435655  \n",
       "Bipolar disorder (%)                        0.148147  \n",
       "Eating disorders (%)                        0.259251  \n",
       "Drug use disorders (%)                      0.427205  \n",
       "Depression (%)                              0.287092  \n",
       "Anxiety disorders (%)                       0.283493  \n",
       "Alcohol use disorders (%)                   1.000000  "
      ]
     },
     "execution_count": 117,
     "metadata": {},
     "output_type": "execute_result"
    }
   ],
   "source": [
    "# calculating the correlation for all disorders using Pearson correlation coefficient (PCC)\n",
    "\n",
    "SDI_corr = SDI_disorders[['Schizophrenia (%)','Bipolar disorder (%)','Eating disorders (%)','Drug use disorders (%)','Depression (%)','Anxiety disorders (%)','Alcohol use disorders (%)']].corr(method='pearson')\n",
    "SDI_corr"
   ]
  },
  {
   "cell_type": "code",
   "execution_count": 118,
   "metadata": {},
   "outputs": [
    {
     "data": {
      "text/plain": [
       "<Axes: >"
      ]
     },
     "execution_count": 118,
     "metadata": {},
     "output_type": "execute_result"
    },
    {
     "data": {
      "image/png": "[encoded data removed]",
      "text/plain": [
       "<Figure size 1200x600 with 2 Axes>"
      ]
     },
     "metadata": {},
     "output_type": "display_data"
    }
   ],
   "source": [
    "#visualising SDI correlation using seaborn heatmap function\n",
    "\n",
    "plt.figure(figsize=(12, 6))\n",
    "sns.heatmap(SDI_corr, annot =True)"
   ]
  },
  {
   "cell_type": "markdown",
   "metadata": {},
   "source": [
    "Interpretation: The Pearson coefficient correlation analysis reveals a distinct pattern in the relationships among the various disorders. Specifically, a **negative correlation** is observed between Depression and Schizophrenia. In contrast, the correlations for other disorder pairs range from **very weak to very strong positive correlations**. Notably, Alcohol use disorders and Bipolar disorder reveal the **weakest positive correlation**, while Anxiety disorders and Eating disorders display the **strongest positive correlation**."
   ]
  },
  {
   "cell_type": "code",
   "execution_count": 119,
   "metadata": {},
   "outputs": [
    {
     "name": "stdout",
     "output_type": "stream",
     "text": [
      "Correlation between Depression and Drug use Schizophrenia: -0.006729452888798847\n"
     ]
    }
   ],
   "source": [
    "# Selecting the columns to calculate the correlation for\n",
    "Depression = SDI_disorders['Depression (%)']\n",
    "Schizophrenia = SDI_disorders['Schizophrenia (%)']\n",
    "\n",
    "# Calculating the correlation between the selected columns\n",
    "correlation = Depression.corr(Schizophrenia)\n",
    "\n",
    "print(f'Correlation between Depression and Drug use Schizophrenia: {correlation}')\n"
   ]
  },
  {
   "cell_type": "markdown",
   "metadata": {},
   "source": [
    "Interpretation: The correlation test, yielding a result of approximately -0.0067, indicates a **\"very weak\" negative correlation** relationship between Depression and Schizophrenia. In conclusion, as the prevalence of Depression decreases, there is a correspondingly high likelihood of  decline in Schizophrenia. "
   ]
  },
  {
   "cell_type": "markdown",
   "metadata": {},
   "source": [
    "### Interesting Trend\n",
    "\n",
    "Upon conducting a correlation analysis, it became evident that the majority of the disorders exhibit positive correlations with each other. This implies that an increase in one disorder within the five SDI categories is associated with an increase in another disorder. However, it's interesting that Depression and Schizophrenia stand out as unique in this context, as they display a negative correlation with each other. The uniqueness of their relation is interesting me."
   ]
  },
  {
   "cell_type": "markdown",
   "metadata": {
    "deletable": false
   },
   "source": [
    "### Requirement FR8 - Detect and remove any outliers in the data used for your \"interesting\" pattern or trend"
   ]
  },
  {
   "cell_type": "markdown",
   "metadata": {},
   "source": [
    "The next step aims to reduce the influence of extreme values and enhance the wholeness of subsequent analyses. "
   ]
  },
  {
   "cell_type": "markdown",
   "metadata": {},
   "source": [
    "Boxplot\n",
    "\n",
    "During the data cleaning phase, [Boxplots](https://en.wikipedia.org/wiki/Box_plot) are the preferred graphical method to look at outliers and numerical distributions.\n",
    " \n",
    "how a boxplot works and why it is used to detect outliers:\n",
    "\n",
    "- Detecting outliers in a dataset using a boxplot is straightforward as outliers are distinctly visible as individual points beyond the whiskers.\n",
    "\n",
    "- The boxplot's ability to make outliers stand out beyond the whiskers simplifies the process of identifying potential differences or anomalies in the dataset.\n",
    "\n",
    "- Boxplots offer a clear and standardized representation of both the spread and central tendency of the data, providing a comprehensive overview of the dataset's distribution.\n",
    "\n",
    "- Since Boxplots are based on the concept of the interquartile range, it will be easier to use IQR remove extreme values if they exit in the dataset."
   ]
  },
  {
   "cell_type": "code",
   "execution_count": 120,
   "metadata": {},
   "outputs": [
    {
     "data": {
      "image/png": "[encoded data removed]",
      "text/plain": [
       "<Figure size 640x480 with 7 Axes>"
      ]
     },
     "metadata": {},
     "output_type": "display_data"
    }
   ],
   "source": [
    "# creating boxplots for each column of the SDI_disorders dataset\n",
    "for i, col in enumerate(SDI_disorders.columns[2:9], 1):\n",
    "    \n",
    "    # creating a subplot grid of 3 rows and 3 columns\n",
    "    plt.subplot(3,3,i) \n",
    "    \n",
    "    # Adjusting vertical space between subplots\n",
    "    plt.subplots_adjust(hspace = 0.8)\n",
    "    \n",
    "    # Creating a boxplot for the selected column\n",
    "    bp = sns.boxplot(x=SDI_disorders[col])\n",
    "\n",
    "# Display the plot    \n",
    "plt.show()"
   ]
  },
  {
   "cell_type": "markdown",
   "metadata": {},
   "source": [
    "The boxplots indicate the presence of outliers in all disorders features, excluding `Schizophrenia`. Consequently, additional transformations are warranted for the SDI disorders exhibiting outliers."
   ]
  },
  {
   "cell_type": "markdown",
   "metadata": {},
   "source": [
    "#### Removing Outliers Using Interquartile Range"
   ]
  },
  {
   "cell_type": "markdown",
   "metadata": {},
   "source": [
    "The Interquartile Range (IQR) is a statistical measure used for identifying and removing outliers from a datase.\n",
    "\n",
    "IQR is based on dividing the dataset into quartiles.\n",
    "where:\n",
    "- first quartile (Q1) represents the 25th percentile\n",
    "- second quartile (Q2) is the median (50th percentile)\n",
    "- third quartile (Q3) is the 75th percentile.\n",
    "\n",
    "IQR is calculated as the difference between the third quartile (Q3) and the first quartile (Q1). \n",
    "\n",
    "That's \n",
    "        \n",
    "  **QR = Q3 - Q1**\n",
    "        \n",
    "How IQR identifies Outliers:\n",
    "- Outliers are defined as values the that fall below **Q1 - 1.5 * IQR or above Q3 + 1.5 * IQR**. These values are considered potential anomalies in the dataset.\n",
    "\n",
    "How IQR remove Outliers:\n",
    "- Outliers identified by the IQR method are removed from the dataset by excluding values beyond the defined threshold of `1.5`, which is typically set at 1.5 times the IQR."
   ]
  },
  {
   "cell_type": "code",
   "execution_count": 121,
   "metadata": {},
   "outputs": [
    {
     "data": {
      "text/html": [
       "<div>\n",
       "<style scoped>\n",
       "    .dataframe tbody tr th:only-of-type {\n",
       "        vertical-align: middle;\n",
       "    }\n",
       "\n",
       "    .dataframe tbody tr th {\n",
       "        vertical-align: top;\n",
       "    }\n",
       "\n",
       "    .dataframe thead th {\n",
       "        text-align: right;\n",
       "    }\n",
       "</style>\n",
       "<table border=\"1\" class=\"dataframe\">\n",
       "  <thead>\n",
       "    <tr style=\"text-align: right;\">\n",
       "      <th></th>\n",
       "      <th>Entity</th>\n",
       "      <th>Year</th>\n",
       "      <th>Schizophrenia (%)</th>\n",
       "      <th>Bipolar disorder (%)</th>\n",
       "      <th>Eating disorders (%)</th>\n",
       "      <th>Anxiety disorders (%)</th>\n",
       "      <th>Depression (%)</th>\n",
       "      <th>Drug use disorders (%)</th>\n",
       "      <th>Alcohol use disorders (%)</th>\n",
       "    </tr>\n",
       "  </thead>\n",
       "  <tbody>\n",
       "    <tr>\n",
       "      <th>2548</th>\n",
       "      <td>High-middle SDI</td>\n",
       "      <td>1990</td>\n",
       "      <td>0.255661</td>\n",
       "      <td>0.559690</td>\n",
       "      <td>0.156116</td>\n",
       "      <td>3.592738</td>\n",
       "      <td>3.650088</td>\n",
       "      <td>0.967014</td>\n",
       "      <td>2.020416</td>\n",
       "    </tr>\n",
       "    <tr>\n",
       "      <th>2549</th>\n",
       "      <td>High-middle SDI</td>\n",
       "      <td>1991</td>\n",
       "      <td>0.256315</td>\n",
       "      <td>0.560306</td>\n",
       "      <td>0.156386</td>\n",
       "      <td>3.598753</td>\n",
       "      <td>3.653832</td>\n",
       "      <td>0.973547</td>\n",
       "      <td>2.028514</td>\n",
       "    </tr>\n",
       "    <tr>\n",
       "      <th>2560</th>\n",
       "      <td>High-middle SDI</td>\n",
       "      <td>2002</td>\n",
       "      <td>0.263088</td>\n",
       "      <td>0.562890</td>\n",
       "      <td>0.169781</td>\n",
       "      <td>3.800091</td>\n",
       "      <td>3.642956</td>\n",
       "      <td>1.022409</td>\n",
       "      <td>2.018559</td>\n",
       "    </tr>\n",
       "    <tr>\n",
       "      <th>2561</th>\n",
       "      <td>High-middle SDI</td>\n",
       "      <td>2003</td>\n",
       "      <td>0.263823</td>\n",
       "      <td>0.563356</td>\n",
       "      <td>0.172375</td>\n",
       "      <td>3.799614</td>\n",
       "      <td>3.643404</td>\n",
       "      <td>1.027464</td>\n",
       "      <td>1.988732</td>\n",
       "    </tr>\n",
       "    <tr>\n",
       "      <th>2562</th>\n",
       "      <td>High-middle SDI</td>\n",
       "      <td>2004</td>\n",
       "      <td>0.264548</td>\n",
       "      <td>0.563885</td>\n",
       "      <td>0.175263</td>\n",
       "      <td>3.798089</td>\n",
       "      <td>3.643229</td>\n",
       "      <td>1.032370</td>\n",
       "      <td>1.961606</td>\n",
       "    </tr>\n",
       "    <tr>\n",
       "      <th>...</th>\n",
       "      <td>...</td>\n",
       "      <td>...</td>\n",
       "      <td>...</td>\n",
       "      <td>...</td>\n",
       "      <td>...</td>\n",
       "      <td>...</td>\n",
       "      <td>...</td>\n",
       "      <td>...</td>\n",
       "      <td>...</td>\n",
       "    </tr>\n",
       "    <tr>\n",
       "      <th>3738</th>\n",
       "      <td>Middle SDI</td>\n",
       "      <td>2004</td>\n",
       "      <td>0.259259</td>\n",
       "      <td>0.527396</td>\n",
       "      <td>0.147609</td>\n",
       "      <td>3.386780</td>\n",
       "      <td>3.272996</td>\n",
       "      <td>0.839770</td>\n",
       "      <td>1.243199</td>\n",
       "    </tr>\n",
       "    <tr>\n",
       "      <th>3739</th>\n",
       "      <td>Middle SDI</td>\n",
       "      <td>2005</td>\n",
       "      <td>0.259252</td>\n",
       "      <td>0.528891</td>\n",
       "      <td>0.149744</td>\n",
       "      <td>3.383900</td>\n",
       "      <td>3.271162</td>\n",
       "      <td>0.833308</td>\n",
       "      <td>1.243186</td>\n",
       "    </tr>\n",
       "    <tr>\n",
       "      <th>3740</th>\n",
       "      <td>Middle SDI</td>\n",
       "      <td>2006</td>\n",
       "      <td>0.259237</td>\n",
       "      <td>0.530446</td>\n",
       "      <td>0.152041</td>\n",
       "      <td>3.382055</td>\n",
       "      <td>3.261974</td>\n",
       "      <td>0.828208</td>\n",
       "      <td>1.245239</td>\n",
       "    </tr>\n",
       "    <tr>\n",
       "      <th>3741</th>\n",
       "      <td>Middle SDI</td>\n",
       "      <td>2007</td>\n",
       "      <td>0.259354</td>\n",
       "      <td>0.532020</td>\n",
       "      <td>0.154678</td>\n",
       "      <td>3.378035</td>\n",
       "      <td>3.244631</td>\n",
       "      <td>0.823418</td>\n",
       "      <td>1.247872</td>\n",
       "    </tr>\n",
       "    <tr>\n",
       "      <th>3742</th>\n",
       "      <td>Middle SDI</td>\n",
       "      <td>2008</td>\n",
       "      <td>0.259525</td>\n",
       "      <td>0.533615</td>\n",
       "      <td>0.157503</td>\n",
       "      <td>3.373095</td>\n",
       "      <td>3.224180</td>\n",
       "      <td>0.819317</td>\n",
       "      <td>1.250268</td>\n",
       "    </tr>\n",
       "  </tbody>\n",
       "</table>\n",
       "<p>93 rows × 9 columns</p>\n",
       "</div>"
      ],
      "text/plain": [
       "               Entity  Year  Schizophrenia (%)  Bipolar disorder (%)  \\\n",
       "2548  High-middle SDI  1990           0.255661              0.559690   \n",
       "2549  High-middle SDI  1991           0.256315              0.560306   \n",
       "2560  High-middle SDI  2002           0.263088              0.562890   \n",
       "2561  High-middle SDI  2003           0.263823              0.563356   \n",
       "2562  High-middle SDI  2004           0.264548              0.563885   \n",
       "...               ...   ...                ...                   ...   \n",
       "3738       Middle SDI  2004           0.259259              0.527396   \n",
       "3739       Middle SDI  2005           0.259252              0.528891   \n",
       "3740       Middle SDI  2006           0.259237              0.530446   \n",
       "3741       Middle SDI  2007           0.259354              0.532020   \n",
       "3742       Middle SDI  2008           0.259525              0.533615   \n",
       "\n",
       "      Eating disorders (%)  Anxiety disorders (%)  Depression (%)  \\\n",
       "2548              0.156116               3.592738        3.650088   \n",
       "2549              0.156386               3.598753        3.653832   \n",
       "2560              0.169781               3.800091        3.642956   \n",
       "2561              0.172375               3.799614        3.643404   \n",
       "2562              0.175263               3.798089        3.643229   \n",
       "...                    ...                    ...             ...   \n",
       "3738              0.147609               3.386780        3.272996   \n",
       "3739              0.149744               3.383900        3.271162   \n",
       "3740              0.152041               3.382055        3.261974   \n",
       "3741              0.154678               3.378035        3.244631   \n",
       "3742              0.157503               3.373095        3.224180   \n",
       "\n",
       "      Drug use disorders (%)  Alcohol use disorders (%)  \n",
       "2548                0.967014                   2.020416  \n",
       "2549                0.973547                   2.028514  \n",
       "2560                1.022409                   2.018559  \n",
       "2561                1.027464                   1.988732  \n",
       "2562                1.032370                   1.961606  \n",
       "...                      ...                        ...  \n",
       "3738                0.839770                   1.243199  \n",
       "3739                0.833308                   1.243186  \n",
       "3740                0.828208                   1.245239  \n",
       "3741                0.823418                   1.247872  \n",
       "3742                0.819317                   1.250268  \n",
       "\n",
       "[93 rows x 9 columns]"
      ]
     },
     "execution_count": 121,
     "metadata": {},
     "output_type": "execute_result"
    }
   ],
   "source": [
    "# Using IQR (Interquartile Range)\n",
    "\n",
    "# Selecting only numeric columns for outlier detection\n",
    "Num_columns = SDI_disorders.select_dtypes(include=['float64', 'int64'])\n",
    "\n",
    "# Calculating the first quartile (Q1) and third quartile (Q3)\n",
    "Q1 = Num_columns.quantile(0.25)\n",
    "Q3 = Num_columns.quantile(0.75)\n",
    "\n",
    "# Calculating the IQR (Interquartile Range)\n",
    "IQR = Q3 - Q1\n",
    "\n",
    "# Defining a threshold to consider values as outliers\n",
    "threshold = 1.5\n",
    "\n",
    "# Creating a boolean mask to indicate whether each value is an outlier\n",
    "outliers_mask = ((Num_columns < (Q1 - threshold * IQR)) | (Num_columns > (Q3 + threshold * IQR))).any(axis=1)\n",
    "\n",
    "# Removing rows containing outliers\n",
    "SDI_no_outliers = SDI_disorders[~outliers_mask]\n",
    "\n",
    "# Display result\n",
    "SDI_no_outliers"
   ]
  },
  {
   "cell_type": "markdown",
   "metadata": {},
   "source": [
    "After uing the `IQR (Interquartile Range) method` to eliminate outliers from my dataset, the remaining data consists of `93 rows`."
   ]
  },
  {
   "cell_type": "markdown",
   "metadata": {},
   "source": [
    "To confirm the removal of all extreme outliers from the dataset, we will visualize the `SDI_no_outliers` using a boxplot."
   ]
  },
  {
   "cell_type": "code",
   "execution_count": 122,
   "metadata": {
    "deletable": false
   },
   "outputs": [
    {
     "data": {
      "image/png": "[encoded data removed]",
      "text/plain": [
       "<Figure size 640x480 with 7 Axes>"
      ]
     },
     "metadata": {},
     "output_type": "display_data"
    }
   ],
   "source": [
    "# creating boxplots for each column of the SDI_no_outliers dataset\n",
    "for i, col in enumerate(SDI_no_outliers.columns[2:9], 1):\n",
    "    \n",
    "    # Subplotting\n",
    "    plt.subplot(3,3,i) # 3 rows, 3 columns, ith subplot\n",
    "    \n",
    "    # Adjusting vertical space between subplots\n",
    "    plt.subplots_adjust(hspace = 0.8)\n",
    "    \n",
    "    # Creating a boxplot for the SDI_no_outliers columns\n",
    "    bp = sns.boxplot(x=SDI_no_outliers[col])\n",
    "\n",
    "# Display the plot    \n",
    "plt.show()"
   ]
  },
  {
   "cell_type": "markdown",
   "metadata": {},
   "source": [
    "After visualizing the `SDI_no_outliers` DataFrame using a boxplot, it appears that extreme outliers present specifically in the \"Alcohol use disorders\" column. \n",
    "\n",
    "In the subsequent cell, I will further refine SDI_no_outliers dataframe by employing the IQR (Interquartile Range) method to specifically eliminate extreme outliers from the `Alcohol use disorders` column.\n"
   ]
  },
  {
   "cell_type": "code",
   "execution_count": 123,
   "metadata": {},
   "outputs": [
    {
     "data": {
      "text/html": [
       "<div>\n",
       "<style scoped>\n",
       "    .dataframe tbody tr th:only-of-type {\n",
       "        vertical-align: middle;\n",
       "    }\n",
       "\n",
       "    .dataframe tbody tr th {\n",
       "        vertical-align: top;\n",
       "    }\n",
       "\n",
       "    .dataframe thead th {\n",
       "        text-align: right;\n",
       "    }\n",
       "</style>\n",
       "<table border=\"1\" class=\"dataframe\">\n",
       "  <thead>\n",
       "    <tr style=\"text-align: right;\">\n",
       "      <th></th>\n",
       "      <th>Entity</th>\n",
       "      <th>Year</th>\n",
       "      <th>Schizophrenia (%)</th>\n",
       "      <th>Bipolar disorder (%)</th>\n",
       "      <th>Eating disorders (%)</th>\n",
       "      <th>Anxiety disorders (%)</th>\n",
       "      <th>Depression (%)</th>\n",
       "      <th>Drug use disorders (%)</th>\n",
       "      <th>Alcohol use disorders (%)</th>\n",
       "    </tr>\n",
       "  </thead>\n",
       "  <tbody>\n",
       "    <tr>\n",
       "      <th>3304</th>\n",
       "      <td>Low SDI</td>\n",
       "      <td>1990</td>\n",
       "      <td>0.215370</td>\n",
       "      <td>0.583572</td>\n",
       "      <td>0.099620</td>\n",
       "      <td>3.492476</td>\n",
       "      <td>3.707441</td>\n",
       "      <td>0.514759</td>\n",
       "      <td>1.334723</td>\n",
       "    </tr>\n",
       "    <tr>\n",
       "      <th>3305</th>\n",
       "      <td>Low SDI</td>\n",
       "      <td>1991</td>\n",
       "      <td>0.215244</td>\n",
       "      <td>0.583916</td>\n",
       "      <td>0.099232</td>\n",
       "      <td>3.490965</td>\n",
       "      <td>3.722886</td>\n",
       "      <td>0.514289</td>\n",
       "      <td>1.343282</td>\n",
       "    </tr>\n",
       "    <tr>\n",
       "      <th>3306</th>\n",
       "      <td>Low SDI</td>\n",
       "      <td>1992</td>\n",
       "      <td>0.215013</td>\n",
       "      <td>0.584481</td>\n",
       "      <td>0.098973</td>\n",
       "      <td>3.492296</td>\n",
       "      <td>3.738661</td>\n",
       "      <td>0.517438</td>\n",
       "      <td>1.350160</td>\n",
       "    </tr>\n",
       "    <tr>\n",
       "      <th>3307</th>\n",
       "      <td>Low SDI</td>\n",
       "      <td>1993</td>\n",
       "      <td>0.214845</td>\n",
       "      <td>0.584995</td>\n",
       "      <td>0.098712</td>\n",
       "      <td>3.494115</td>\n",
       "      <td>3.751748</td>\n",
       "      <td>0.521036</td>\n",
       "      <td>1.353884</td>\n",
       "    </tr>\n",
       "    <tr>\n",
       "      <th>3308</th>\n",
       "      <td>Low SDI</td>\n",
       "      <td>1994</td>\n",
       "      <td>0.214710</td>\n",
       "      <td>0.585278</td>\n",
       "      <td>0.098571</td>\n",
       "      <td>3.494011</td>\n",
       "      <td>3.761517</td>\n",
       "      <td>0.522862</td>\n",
       "      <td>1.356744</td>\n",
       "    </tr>\n",
       "    <tr>\n",
       "      <th>...</th>\n",
       "      <td>...</td>\n",
       "      <td>...</td>\n",
       "      <td>...</td>\n",
       "      <td>...</td>\n",
       "      <td>...</td>\n",
       "      <td>...</td>\n",
       "      <td>...</td>\n",
       "      <td>...</td>\n",
       "      <td>...</td>\n",
       "    </tr>\n",
       "    <tr>\n",
       "      <th>3738</th>\n",
       "      <td>Middle SDI</td>\n",
       "      <td>2004</td>\n",
       "      <td>0.259259</td>\n",
       "      <td>0.527396</td>\n",
       "      <td>0.147609</td>\n",
       "      <td>3.386780</td>\n",
       "      <td>3.272996</td>\n",
       "      <td>0.839770</td>\n",
       "      <td>1.243199</td>\n",
       "    </tr>\n",
       "    <tr>\n",
       "      <th>3739</th>\n",
       "      <td>Middle SDI</td>\n",
       "      <td>2005</td>\n",
       "      <td>0.259252</td>\n",
       "      <td>0.528891</td>\n",
       "      <td>0.149744</td>\n",
       "      <td>3.383900</td>\n",
       "      <td>3.271162</td>\n",
       "      <td>0.833308</td>\n",
       "      <td>1.243186</td>\n",
       "    </tr>\n",
       "    <tr>\n",
       "      <th>3740</th>\n",
       "      <td>Middle SDI</td>\n",
       "      <td>2006</td>\n",
       "      <td>0.259237</td>\n",
       "      <td>0.530446</td>\n",
       "      <td>0.152041</td>\n",
       "      <td>3.382055</td>\n",
       "      <td>3.261974</td>\n",
       "      <td>0.828208</td>\n",
       "      <td>1.245239</td>\n",
       "    </tr>\n",
       "    <tr>\n",
       "      <th>3741</th>\n",
       "      <td>Middle SDI</td>\n",
       "      <td>2007</td>\n",
       "      <td>0.259354</td>\n",
       "      <td>0.532020</td>\n",
       "      <td>0.154678</td>\n",
       "      <td>3.378035</td>\n",
       "      <td>3.244631</td>\n",
       "      <td>0.823418</td>\n",
       "      <td>1.247872</td>\n",
       "    </tr>\n",
       "    <tr>\n",
       "      <th>3742</th>\n",
       "      <td>Middle SDI</td>\n",
       "      <td>2008</td>\n",
       "      <td>0.259525</td>\n",
       "      <td>0.533615</td>\n",
       "      <td>0.157503</td>\n",
       "      <td>3.373095</td>\n",
       "      <td>3.224180</td>\n",
       "      <td>0.819317</td>\n",
       "      <td>1.250268</td>\n",
       "    </tr>\n",
       "  </tbody>\n",
       "</table>\n",
       "<p>75 rows × 9 columns</p>\n",
       "</div>"
      ],
      "text/plain": [
       "          Entity  Year  Schizophrenia (%)  Bipolar disorder (%)  \\\n",
       "3304     Low SDI  1990           0.215370              0.583572   \n",
       "3305     Low SDI  1991           0.215244              0.583916   \n",
       "3306     Low SDI  1992           0.215013              0.584481   \n",
       "3307     Low SDI  1993           0.214845              0.584995   \n",
       "3308     Low SDI  1994           0.214710              0.585278   \n",
       "...          ...   ...                ...                   ...   \n",
       "3738  Middle SDI  2004           0.259259              0.527396   \n",
       "3739  Middle SDI  2005           0.259252              0.528891   \n",
       "3740  Middle SDI  2006           0.259237              0.530446   \n",
       "3741  Middle SDI  2007           0.259354              0.532020   \n",
       "3742  Middle SDI  2008           0.259525              0.533615   \n",
       "\n",
       "      Eating disorders (%)  Anxiety disorders (%)  Depression (%)  \\\n",
       "3304              0.099620               3.492476        3.707441   \n",
       "3305              0.099232               3.490965        3.722886   \n",
       "3306              0.098973               3.492296        3.738661   \n",
       "3307              0.098712               3.494115        3.751748   \n",
       "3308              0.098571               3.494011        3.761517   \n",
       "...                    ...                    ...             ...   \n",
       "3738              0.147609               3.386780        3.272996   \n",
       "3739              0.149744               3.383900        3.271162   \n",
       "3740              0.152041               3.382055        3.261974   \n",
       "3741              0.154678               3.378035        3.244631   \n",
       "3742              0.157503               3.373095        3.224180   \n",
       "\n",
       "      Drug use disorders (%)  Alcohol use disorders (%)  \n",
       "3304                0.514759                   1.334723  \n",
       "3305                0.514289                   1.343282  \n",
       "3306                0.517438                   1.350160  \n",
       "3307                0.521036                   1.353884  \n",
       "3308                0.522862                   1.356744  \n",
       "...                      ...                        ...  \n",
       "3738                0.839770                   1.243199  \n",
       "3739                0.833308                   1.243186  \n",
       "3740                0.828208                   1.245239  \n",
       "3741                0.823418                   1.247872  \n",
       "3742                0.819317                   1.250268  \n",
       "\n",
       "[75 rows x 9 columns]"
      ]
     },
     "execution_count": 123,
     "metadata": {},
     "output_type": "execute_result"
    }
   ],
   "source": [
    "# creating 'check' as the variable containing the column with outliers\n",
    "check_col = 'Alcohol use disorders (%)'\n",
    "\n",
    "# Calculating the first quartile (Q1) and third quartile (Q3)\n",
    "Q1 = SDI_no_outliers[check].quantile(0.25)\n",
    "Q3 = SDI_no_outliers[check].quantile(0.75)\n",
    "\n",
    "# Calculating the IQR (Interquartile Range)\n",
    "IQR = Q3 - Q1\n",
    "\n",
    "# Defining IQR threshold for extreme outliers\n",
    "iqr_threshold = 1.5\n",
    "\n",
    "# Creating a boolean mask to indicate whether each value is an extreme outlier\n",
    "outliers_mask = ((SDI_no_outliers[check_col] < (Q1 - iqr_threshold * IQR)) | (SDI_no_outliers[check_col] > (Q3 + iqr_threshold * IQR)))\n",
    "\n",
    "# Removing rows containing extreme outliers\n",
    "New_SDI = SDI_no_outliers[~outliers_mask]\n",
    "New_SDI"
   ]
  },
  {
   "cell_type": "markdown",
   "metadata": {},
   "source": [
    "Following the removal of extreme outliers from the \"Alcohol use disorders\" column, the `New_SDI` DataFrame now contains `75 rows`. "
   ]
  },
  {
   "cell_type": "markdown",
   "metadata": {},
   "source": [
    "To verify the complete removal of extreme outliers from the `New_SDI` DataFrame, boxplot will be employed for visualizing the data."
   ]
  },
  {
   "cell_type": "code",
   "execution_count": 124,
   "metadata": {},
   "outputs": [
    {
     "data": {
      "image/png": "[encoded data removed]",
      "text/plain": [
       "<Figure size 640x480 with 7 Axes>"
      ]
     },
     "metadata": {},
     "output_type": "display_data"
    }
   ],
   "source": [
    "# creating boxplots for each column of the New_SDI dataset\n",
    "for i, col in enumerate(New_SDI.columns[2:9], 1):\n",
    "    \n",
    "    # creating a subplot grid of 3 rows and 3 columns\n",
    "    plt.subplot(3,3,i) \n",
    "    \n",
    "    # Adjusting vertical space between subplots\n",
    "    plt.subplots_adjust(hspace = 0.8)\n",
    "    \n",
    "    # Creating a boxplot for the selected column\n",
    "    bp = sns.boxplot(x=New_SDI[col])\n",
    "\n",
    "# Display the plot    \n",
    "plt.show()"
   ]
  },
  {
   "cell_type": "markdown",
   "metadata": {},
   "source": [
    "The dataset no longer contains any outliers."
   ]
  },
  {
   "cell_type": "markdown",
   "metadata": {
    "deletable": false
   },
   "source": [
    "### Requirement FR9 - Define a hypothesis to test your “interesting” pattern or trend"
   ]
  },
  {
   "cell_type": "markdown",
   "metadata": {},
   "source": [
    "In statistics, the statement we test for statistical significance is called [null hypothesis](https://en.wikipedia.org/wiki/Null_hypothesis). In our case, the null hypothesis would be:\n",
    "\n",
    "<div align=\"center\"><font size=2.5><b><i>H</i><sub>0</sub>: there is no correlation between Depression and Schizophrenia.</b></font></div>\n",
    "\n",
    "In our statistical test we want to reject such hypothesis and conclude that the alternative hypothesis is true:\n",
    "\n",
    "<div align=\"center\"><font size=2.5><b><i>H</i><sub>a</sub>: there is some correlation between Depression and Schizophrenia.</b></font></div>\n",
    "\n",
    "To reject our hypothesis, we will use the [**p-value**](https://en.wikipedia.org/wiki/P-value). Since this value is defined as:\n",
    "\n",
    "<div align=\"center\"><font size=2.5>p-value = Pr(the observed result, given <i>H</i><sub>0</sub> is true).</font></div>\n",
    "\n",
    "We want this probability as small as possible, i.e, such relation would be very unlikey under the null hypothesis. Usually, if p<0.05, staticians tend to reject the null hypothesis. Thus, let's look at the p-values computed before."
   ]
  },
  {
   "cell_type": "markdown",
   "metadata": {
    "deletable": false
   },
   "source": [
    "### Requirement FR10 - Test your hypothesis with statistical significance level of 0.05"
   ]
  },
  {
   "cell_type": "code",
   "execution_count": 125,
   "metadata": {},
   "outputs": [
    {
     "name": "stdout",
     "output_type": "stream",
     "text": [
      "Correlation coefficients:\n",
      "                Schizophrenia (%)\n",
      "Depression (%)         -0.006729\n",
      "P-values:\n",
      "                Schizophrenia (%)\n",
      "Depression (%)          0.937103\n"
     ]
    }
   ],
   "source": [
    "# Defining the column of interest\n",
    "interest_columns = ['Depression (%)', 'Schizophrenia (%)']\n",
    "\n",
    "# Function to compute Pearson correlation coefficient and p-value\n",
    "def compute_pearsonr_stats(df, columns):\n",
    "    x, y = columns\n",
    "    df_corr = pd.DataFrame(index=[x], columns=[y])  # Correlation matrix\n",
    "    df_p = pd.DataFrame(index=[x], columns=[y])  # Matrix of p-values\n",
    "    \n",
    "    corr = stats.pearsonr(df[x], df[y])\n",
    "    \n",
    "    # Fill the results into the DataFrames\n",
    "    df_corr.loc[x, y] = corr[0]  # correlation coefficient\n",
    "    df_p.loc[x, y] = corr[1]  # p-value\n",
    "    \n",
    "    return df_corr, df_p\n",
    "\n",
    "# Call the function with your DataFrame and columns of interest\n",
    "df_corr, df_p = compute_pearsonr_stats(SDI_disorders, interest_columns)\n",
    "\n",
    "# Print the results\n",
    "print('Correlation coefficients:\\n', df_corr)\n",
    "print('P-values:\\n', df_p)\n"
   ]
  },
  {
   "cell_type": "markdown",
   "metadata": {
    "deletable": false
   },
   "source": [
    "Checking the validity of P-value"
   ]
  },
  {
   "cell_type": "code",
   "execution_count": 126,
   "metadata": {
    "deletable": false
   },
   "outputs": [
    {
     "name": "stdout",
     "output_type": "stream",
     "text": [
      "Fail to reject the null hypothesis. There is no significant difference.\n"
     ]
    }
   ],
   "source": [
    "# Checking for significance level\n",
    "p_value = 0.937103\n",
    "\n",
    "# Setting the significance level (alpha)\n",
    "alpha = 0.05\n",
    "\n",
    "# Comparing p-value to alpha to make a decision\n",
    "if p_value < alpha:\n",
    "    print(\"Reject the null hypothesis. There is a significant difference.\")\n",
    "else:\n",
    "    print(\"Fail to reject the null hypothesis. There is no significant difference.\")\n"
   ]
  },
  {
   "cell_type": "markdown",
   "metadata": {},
   "source": [
    "Interpretation: The results of the hypothesis test indicate a p-value 0.937103, which surpasses the given significance level of 0.05.\n",
    "\n",
    "Conclusion: Given that the p-value is greater than 0.05, fail to reject the null hypothesis. That's there is no relation between Depression and Schizophrenia"
   ]
  }
 ],
 "metadata": {
  "kernelspec": {
   "display_name": "Python 3 (ipykernel)",
   "language": "python",
   "name": "python3"
  },
  "language_info": {
   "codemirror_mode": {
    "name": "ipython",
    "version": 3
   },
   "file_extension": ".py",
   "mimetype": "text/x-python",
   "name": "python",
   "nbconvert_exporter": "python",
   "pygments_lexer": "ipython3",
   "version": "3.11.5"
  }
 },
 "nbformat": 4,
 "nbformat_minor": 4
}
