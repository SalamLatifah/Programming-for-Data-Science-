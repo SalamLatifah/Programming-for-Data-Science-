{
 "cells": [
  {
   "cell_type": "markdown",
   "metadata": {
    "deletable": false
   },
   "source": [
    "# Programming for Data Science \n"
   ]
  },
  {
   "cell_type": "markdown",
   "metadata": {},
   "source": [
    "## Student Id: "
   ]
  },
  {
   "cell_type": "markdown",
   "metadata": {
    "deletable": false
   },
   "source": [
    "# Programming Task 1"
   ]
  },
  {
   "cell_type": "markdown",
   "metadata": {
    "deletable": false
   },
   "source": [
    "### Requirement FR1 - Develop a function to read a single column from a CSV file"
   ]
  },
  {
   "cell_type": "code",
   "execution_count": 43,
   "metadata": {
    "deletable": false
   },
   "outputs": [
    {
     "name": "stdout",
     "output_type": "stream",
     "text": [
      "Column Name: stroke\n",
      "Column Data: [83, 53, 71, 62, 61, 66, 58, 71, 73, 67, 65, 54, 65, 79, 65, 62, 73, 64, 71, 76, 75, 59, 74, 75, 62, 69, 70, 63, 53, 74, 75, 84, 66, 63, 67, 63, 73, 95, 62, 69, 87, 73, 64, 64, 67, 84, 74, 67, 70, 69, 83, 71, 88, 95, 88, 67, 67, 71, 69, 81, 64, 68, 72, 89, 65, 68, 69, 78, 70, 77, 77, 75, 74, 84, 73, 83, 59, 84, 76, 69, 85, 72, 79, 81, 63, 58, 70, 75, 67, 84, 66, 63, 88, 77, 68, 66, 64, 59, 79, 72, 55, 75, 65, 57, 74, 78, 81, 73, 84, 56, 67, 54, 49, 72, 75, 84, 68, 57, 74, 86, 79, 90, 68, 70, 64, 65, 69, 78, 77, 71, 74, 73, 68, 67, 65, 61, 70, 73, 96, 70, 62, 70, 76, 82, 73, 74, 80, 73, 80, 90, 83, 83, 76, 67, 72, 74, 64, 86, 77, 84, 79, 81, 74, 80, 67, 72, 86, 100, 48, 59, 61, 64, 79, 79, 78, 70, 78, 59, 71, 73, 70, 53, 75, 93, 68, 55, 74, 64, 65, 0, 58, 75, 76, 55, 70, 53, 60, 69, 77, 63, 62, 81, 57, 55, 55, 60, 64, 61, 76, 77]\n"
     ]
    }
   ],
   "source": [
    "# Developing a function to read a single column from a CSV file\n",
    "\n",
    "def read_csv_column(File_Name, Column_Num): #columber number is represented as Column_num\n",
    "    # Open the file in read mode\n",
    "    with open(File_Name, 'r') as file:\n",
    "        \n",
    "        # Read all lines from the file\n",
    "        lines = file.readlines()\n",
    "\n",
    "        # Extracting the header and remove newline character\n",
    "        header = lines[0].strip().split(',')\n",
    "\n",
    "        # Validating the column number (Column_Num)\n",
    "        if Column_Num < 0 or Column_Num >= len(header):\n",
    "            raise ValueError(\"Invalid column number\")\n",
    "            \n",
    "        # Extracting the column name\n",
    "        Column_Name = header[Column_Num]\n",
    "            \n",
    "        # Initializing an empty list to store column data\n",
    "        Column_Data = []\n",
    "            \n",
    "        # Iterating through the lines to extract the column data and convert to integers\n",
    "        for line in lines[1:]:\n",
    "            values = line.strip().split(',')\n",
    "            Column_Data.append(int(values[Column_Num]))\n",
    "                \n",
    "        # Return the column name and data\n",
    "        return Column_Name, Column_Data\n",
    "\n",
    "# Testing the defined function with task1.csv file using column number 2\n",
    "Column_Name, Column_Data = read_csv_column(r\"C:\\Users\\salam\\OneDrive\\Documents\\programming for PS\\assignment\\p4ds-assessment2324-LT2-SALAM\\resources\\task1.csv\", 2)\n",
    "\n",
    "# Print the results\n",
    "print(f\"Column Name: {Column_Name}\")\n",
    "print(f\"Column Data: {Column_Data}\")\n"
   ]
  },
  {
   "cell_type": "markdown",
   "metadata": {
    "deletable": false
   },
   "source": [
    "### Requirement FR2 - Develop a function to read CSV data from a file into memory"
   ]
  },
  {
   "cell_type": "code",
   "execution_count": 44,
   "metadata": {
    "deletable": false
   },
   "outputs": [
    {
     "name": "stdout",
     "output_type": "stream",
     "text": [
      "{'cancer': [70, 70, 68, 53, 75, 69, 70, 63, 73, 66, 70, 63, 68, 69, 72, 65, 69, 61, 68, 67, 68, 65, 65, 68, 64, 63, 68, 69, 61, 72, 63, 75, 67, 72, 63, 69, 73, 70, 69, 73, 69, 73, 65, 70, 64, 64, 63, 68, 70, 70, 70, 62, 81, 69, 72, 69, 66, 67, 70, 84, 65, 65, 63, 81, 65, 67, 66, 67, 61, 76, 66, 70, 67, 70, 73, 63, 62, 82, 75, 65, 74, 68, 81, 76, 57, 65, 62, 64, 65, 63, 69, 65, 100, 65, 62, 66, 64, 61, 64, 60, 55, 64, 57, 63, 59, 66, 68, 70, 70, 51, 58, 57, 55, 68, 67, 72, 67, 58, 61, 60, 58, 67, 68, 66, 62, 59, 66, 64, 60, 63, 65, 55, 56, 63, 59, 60, 65, 73, 65, 65, 61, 64, 65, 63, 70, 59, 67, 68, 66, 64, 64, 65, 68, 57, 68, 65, 64, 66, 72, 68, 67, 64, 67, 57, 59, 52, 63, 58, 47, 58, 61, 64, 62, 60, 65, 58, 57, 64, 49, 59, 59, 59, 67, 59, 55, 57, 57, 65, 61, 58, 59, 61, 61, 59, 64, 56, 58, 59, 64, 57, 56, 60, 61, 57, 59, 53, 59, 56, 58, 63], 'cardiovascular': [37, 34, 24, 38, 35, 38, 37, 32, 35, 36, 35, 31, 42, 47, 32, 30, 34, 30, 39, 35, 50, 40, 50, 30, 37, 50, 33, 39, 40, 39, 43, 39, 24, 36, 43, 34, 23, 33, 29, 40, 30, 29, 32, 42, 44, 41, 41, 35, 33, 29, 34, 56, 22, 34, 24, 37, 52, 24, 29, 34, 40, 52, 35, 41, 13, 38, 31, 30, 30, 35, 45, 44, 27, 43, 28, 35, 36, 0, 55, 41, 73, 16, 38, 28, 30, 32, 25, 41, 35, 24, 33, 28, 70, 48, 37, 44, 38, 35, 29, 46, 35, 39, 41, 31, 23, 44, 64, 33, 50, 25, 34, 30, 37, 42, 49, 82, 77, 36, 78, 47, 42, 45, 56, 36, 32, 36, 27, 39, 31, 29, 36, 32, 32, 28, 25, 29, 47, 34, 29, 38, 33, 44, 39, 22, 40, 45, 33, 78, 31, 46, 46, 30, 100, 51, 44, 43, 31, 37, 47, 36, 32, 34, 31, 19, 28, 14, 31, 0, 44, 28, 28, 46, 25, 31, 31, 28, 31, 26, 33, 28, 27, 52, 10, 27, 31, 57, 19, 27, 29, 0, 44, 31, 35, 33, 27, 29, 25, 30, 23, 22, 31, 26, 37, 27, 31, 24, 29, 42, 38, 33], 'stroke': [83, 53, 71, 62, 61, 66, 58, 71, 73, 67, 65, 54, 65, 79, 65, 62, 73, 64, 71, 76, 75, 59, 74, 75, 62, 69, 70, 63, 53, 74, 75, 84, 66, 63, 67, 63, 73, 95, 62, 69, 87, 73, 64, 64, 67, 84, 74, 67, 70, 69, 83, 71, 88, 95, 88, 67, 67, 71, 69, 81, 64, 68, 72, 89, 65, 68, 69, 78, 70, 77, 77, 75, 74, 84, 73, 83, 59, 84, 76, 69, 85, 72, 79, 81, 63, 58, 70, 75, 67, 84, 66, 63, 88, 77, 68, 66, 64, 59, 79, 72, 55, 75, 65, 57, 74, 78, 81, 73, 84, 56, 67, 54, 49, 72, 75, 84, 68, 57, 74, 86, 79, 90, 68, 70, 64, 65, 69, 78, 77, 71, 74, 73, 68, 67, 65, 61, 70, 73, 96, 70, 62, 70, 76, 82, 73, 74, 80, 73, 80, 90, 83, 83, 76, 67, 72, 74, 64, 86, 77, 84, 79, 81, 74, 80, 67, 72, 86, 100, 48, 59, 61, 64, 79, 79, 78, 70, 78, 59, 71, 73, 70, 53, 75, 93, 68, 55, 74, 64, 65, 0, 58, 75, 76, 55, 70, 53, 60, 69, 77, 63, 62, 81, 57, 55, 55, 60, 64, 61, 76, 77], 'depression': [64, 56, 69, 46, 62, 61, 62, 60, 65, 69, 64, 54, 60, 72, 66, 62, 72, 56, 60, 58, 61, 63, 61, 72, 54, 62, 66, 66, 45, 61, 60, 67, 65, 65, 51, 61, 71, 72, 61, 53, 66, 69, 63, 73, 59, 62, 69, 71, 54, 70, 58, 71, 100, 68, 73, 62, 67, 60, 74, 82, 61, 55, 69, 74, 72, 65, 63, 71, 58, 50, 66, 72, 60, 58, 72, 73, 70, 85, 66, 67, 60, 82, 62, 68, 60, 59, 65, 65, 71, 66, 61, 65, 72, 65, 66, 65, 62, 53, 66, 57, 52, 76, 64, 58, 65, 56, 61, 76, 64, 53, 62, 54, 55, 67, 68, 58, 54, 57, 63, 65, 63, 49, 66, 71, 61, 64, 58, 50, 69, 64, 60, 54, 64, 60, 61, 57, 64, 68, 74, 63, 63, 68, 53, 58, 65, 61, 66, 59, 71, 69, 63, 61, 60, 60, 72, 62, 64, 69, 71, 75, 62, 79, 35, 59, 54, 58, 55, 59, 59, 54, 68, 59, 70, 53, 71, 58, 74, 59, 65, 63, 59, 67, 64, 66, 66, 60, 61, 63, 64, 0, 60, 59, 67, 58, 52, 52, 62, 60, 63, 56, 58, 59, 59, 66, 52, 59, 55, 68, 63, 61], 'rehab': [56, 53, 44, 60, 75, 57, 72, 47, 72, 43, 52, 43, 56, 54, 61, 48, 60, 50, 68, 46, 58, 55, 56, 63, 48, 52, 51, 49, 47, 82, 58, 55, 54, 76, 62, 49, 58, 57, 45, 71, 45, 61, 44, 73, 47, 53, 47, 57, 77, 45, 53, 63, 66, 55, 56, 45, 47, 65, 50, 51, 51, 87, 44, 61, 42, 65, 59, 65, 48, 57, 84, 51, 53, 54, 72, 44, 26, 45, 64, 39, 72, 77, 56, 46, 51, 45, 60, 57, 47, 61, 59, 45, 37, 62, 36, 57, 43, 40, 58, 55, 50, 38, 45, 76, 72, 71, 79, 35, 68, 51, 48, 51, 43, 38, 45, 76, 62, 53, 55, 58, 84, 97, 48, 61, 48, 56, 60, 64, 62, 37, 66, 100, 92, 38, 74, 77, 68, 40, 41, 50, 42, 44, 61, 36, 69, 51, 90, 79, 34, 45, 54, 65, 53, 60, 42, 70, 51, 41, 46, 70, 75, 26, 38, 28, 39, 19, 53, 32, 29, 47, 68, 61, 46, 33, 50, 65, 40, 80, 31, 45, 55, 39, 58, 42, 50, 36, 43, 49, 45, 0, 26, 40, 43, 37, 40, 28, 34, 43, 40, 42, 44, 39, 37, 28, 52, 28, 36, 36, 59, 43], 'vaccine': [76, 79, 77, 47, 84, 73, 76, 66, 86, 62, 71, 79, 79, 76, 70, 74, 85, 63, 70, 76, 67, 77, 63, 90, 65, 54, 73, 78, 60, 74, 78, 91, 76, 87, 60, 74, 70, 88, 76, 70, 72, 77, 72, 79, 75, 72, 69, 74, 69, 99, 74, 87, 80, 82, 80, 80, 71, 72, 78, 85, 80, 69, 70, 80, 71, 88, 68, 84, 55, 62, 80, 88, 70, 70, 83, 77, 83, 63, 91, 70, 100, 79, 90, 70, 64, 69, 73, 81, 81, 68, 73, 64, 98, 61, 80, 74, 67, 74, 67, 62, 64, 74, 92, 69, 71, 58, 65, 91, 72, 67, 85, 76, 60, 76, 71, 66, 58, 71, 64, 58, 47, 44, 74, 67, 74, 79, 73, 56, 70, 74, 78, 71, 80, 83, 73, 61, 62, 79, 78, 76, 80, 62, 64, 64, 65, 61, 69, 64, 83, 76, 74, 52, 70, 66, 64, 63, 65, 76, 89, 78, 68, 95, 59, 85, 78, 76, 56, 83, 53, 71, 73, 72, 78, 85, 87, 70, 77, 75, 68, 88, 69, 70, 91, 70, 68, 65, 68, 78, 71, 0, 61, 80, 84, 65, 56, 69, 78, 74, 76, 80, 67, 77, 80, 72, 60, 76, 75, 61, 89, 85], 'diarrhea': [66, 56, 78, 53, 69, 70, 58, 70, 79, 73, 73, 55, 66, 76, 74, 74, 75, 65, 69, 69, 69, 68, 68, 68, 65, 73, 81, 74, 46, 77, 68, 89, 72, 65, 65, 76, 84, 67, 72, 69, 75, 91, 80, 72, 69, 74, 69, 80, 65, 87, 67, 69, 75, 75, 100, 72, 63, 85, 94, 90, 65, 70, 72, 94, 83, 77, 72, 69, 69, 64, 76, 82, 82, 79, 83, 79, 61, 95, 66, 74, 67, 90, 98, 88, 81, 66, 82, 81, 77, 78, 72, 76, 87, 79, 66, 71, 68, 61, 80, 70, 61, 68, 75, 76, 84, 81, 70, 87, 89, 77, 84, 63, 62, 77, 72, 80, 65, 71, 72, 76, 94, 68, 76, 83, 77, 75, 77, 71, 85, 74, 76, 74, 77, 73, 78, 59, 69, 72, 69, 72, 70, 79, 72, 81, 86, 71, 74, 73, 71, 76, 80, 86, 75, 68, 91, 70, 71, 80, 75, 78, 97, 80, 80, 67, 63, 80, 66, 70, 59, 66, 77, 70, 66, 92, 65, 68, 65, 85, 75, 64, 66, 66, 69, 75, 69, 71, 66, 73, 68, 0, 77, 65, 61, 61, 78, 50, 72, 68, 66, 63, 59, 55, 61, 51, 65, 56, 66, 73, 70, 75], 'obesity': [47, 52, 61, 41, 56, 45, 58, 44, 52, 49, 51, 59, 67, 63, 52, 49, 57, 47, 52, 45, 61, 48, 62, 59, 48, 47, 58, 58, 49, 52, 54, 50, 48, 62, 41, 49, 45, 78, 58, 45, 48, 67, 49, 72, 52, 58, 73, 57, 49, 46, 54, 63, 58, 43, 43, 62, 56, 41, 37, 61, 58, 47, 51, 58, 43, 45, 48, 69, 42, 42, 62, 65, 49, 39, 50, 54, 82, 0, 77, 53, 94, 42, 50, 44, 42, 49, 52, 86, 61, 50, 48, 37, 100, 38, 53, 50, 56, 44, 45, 50, 39, 60, 81, 0, 45, 45, 49, 62, 54, 32, 38, 43, 56, 72, 52, 53, 49, 44, 41, 39, 37, 86, 77, 51, 49, 66, 51, 29, 31, 51, 50, 53, 31, 55, 47, 52, 56, 53, 66, 49, 60, 51, 46, 47, 37, 35, 58, 52, 82, 59, 47, 51, 43, 57, 67, 72, 60, 57, 61, 66, 52, 67, 0, 50, 51, 51, 37, 0, 40, 50, 42, 50, 61, 40, 36, 54, 71, 47, 47, 46, 64, 53, 46, 45, 54, 48, 56, 55, 49, 0, 51, 86, 47, 53, 47, 45, 48, 54, 40, 46, 58, 50, 56, 64, 42, 53, 55, 63, 62, 53], 'diabetes': [80, 78, 72, 66, 78, 74, 74, 74, 79, 81, 75, 73, 85, 76, 76, 74, 83, 71, 80, 75, 79, 74, 83, 68, 72, 81, 80, 82, 70, 82, 80, 84, 74, 84, 73, 76, 80, 87, 72, 77, 68, 87, 83, 75, 80, 78, 83, 81, 74, 75, 75, 78, 77, 67, 85, 82, 82, 74, 73, 79, 79, 76, 72, 92, 68, 73, 73, 74, 73, 71, 80, 72, 74, 72, 75, 73, 78, 78, 82, 71, 92, 83, 89, 97, 82, 71, 70, 90, 73, 79, 75, 73, 100, 84, 75, 79, 74, 74, 77, 73, 69, 76, 79, 84, 71, 89, 81, 88, 85, 79, 73, 73, 96, 79, 84, 95, 84, 90, 65, 64, 70, 100, 78, 75, 76, 78, 77, 65, 80, 63, 81, 89, 88, 73, 80, 80, 81, 81, 85, 79, 77, 78, 72, 76, 77, 75, 80, 77, 73, 76, 81, 84, 95, 66, 79, 86, 70, 81, 87, 71, 75, 78, 56, 81, 80, 80, 83, 97, 84, 66, 73, 78, 69, 80, 81, 81, 95, 80, 69, 81, 74, 82, 93, 80, 75, 80, 72, 79, 80, 0, 78, 79, 66, 74, 81, 67, 80, 69, 79, 71, 73, 61, 76, 67, 70, 63, 76, 77, 75, 73]}\n"
     ]
    }
   ],
   "source": [
    "\n",
    "def read_csv(Flie_Name, Num_of_rows=210): #Num_of_rows representing number od rows\n",
    "    \n",
    "    output = {}\n",
    "    \n",
    "    with open(Flie_Name, 'r', encoding='utf-8-sig') as file:\n",
    "        \n",
    "        # Reading all the lines from the csv file\n",
    "        lines = file.readlines()\n",
    "\n",
    "        # Extracting the header and remove newline character\n",
    "        header = lines[0].strip().split(',')\n",
    "\n",
    "        # Iterating through the columns and add them to the dictionary\n",
    "        for i in range(len(header)):\n",
    "            \n",
    "            # Extracting the column name\n",
    "            Column_Name = header[i]\n",
    "\n",
    "            # Initialize a list to store column data\n",
    "            Column_Data = []\n",
    "\n",
    "            # Iterating through the lines to extract the column data, and convert the data to integers or floats\n",
    "            for line in lines[1:]:\n",
    "                values = line.strip().split(',')\n",
    "                try:\n",
    "                    # Now convert the value to an integer\n",
    "                    Column_Data.append(int(values[i]))\n",
    "                except ValueError:\n",
    "                    \n",
    "                    # If it's not an integer, converte to a float\n",
    "                    Column_Data.append(float(values[i]))\n",
    "\n",
    "            # Add the column to the dictionary\n",
    "            output[Column_Name] = Column_Data\n",
    "\n",
    "    return output\n",
    "\n",
    "result_dict = read_csv(r\"C:\\Users\\salam\\OneDrive\\Documents\\programming for PS\\assignment\\p4ds-assessment2324-LT2-SALAM\\resources\\task1.csv\", 210)\n",
    "print(result_dict)"
   ]
  },
  {
   "cell_type": "markdown",
   "metadata": {
    "deletable": false
   },
   "source": [
    "### Requirement FR3 - Develop a function to calculate the Kendall Tau Correlation Coefficient for two lists of data"
   ]
  },
  {
   "cell_type": "code",
   "execution_count": 45,
   "metadata": {
    "deletable": false
   },
   "outputs": [
    {
     "name": "stdout",
     "output_type": "stream",
     "text": [
      "Kendall Tau Rank Correlation Coefficient: 0.14285714285714285\n"
     ]
    }
   ],
   "source": [
    "# Developing a function to calculate the Kendall Tau Correlation Coefficient for two lists of data\n",
    "\n",
    "def kendall_tau_rank_correlation(list_A, list_B):\n",
    "    \n",
    "    # Check if the lists are of equal length\n",
    "    if len(list_A) != len(list_B):\n",
    "        raise ValueError(\"Lists must be of equal length.\")\n",
    "\n",
    "    n = len(list_A)\n",
    "    Concordant_Pairs = 0\n",
    "    Discordant_Pairs = 0\n",
    "\n",
    "    for i in range(n - 1):\n",
    "        for j in range(i + 1, n):\n",
    "            \n",
    "            # Check for concordant and discordant pairs\n",
    "            if (list_A[i] < list_A[j] and list_B[i] < list_B[j]) or \\\n",
    "               (list_A[i] > list_A[j] and list_B[i] > list_B[j]):\n",
    "                Concordant_Pairs += 1\n",
    "            elif (list_A[i] < list_A[j] and list_B[i] > list_B[j]) or \\\n",
    "                 (list_A[i] > list_A[j] and list_B[i] < list_B[j]):\n",
    "                Discordant_Pairs += 1\n",
    "\n",
    "    # Calculating Kendall Tau\n",
    "    tau = (Concordant_Pairs - Discordant_Pairs) / (0.5 * n * (n - 1))\n",
    "\n",
    "    return tau\n",
    "\n",
    "# Example to test if the function is working:\n",
    "list_A = [2, 4, 3, 5, 6, 7, 1, 5]\n",
    "list_B = [1, 5, 7, 3, 5, 4, 2, 6]\n",
    "\n",
    "# Calculate Kendall Tau Rank Correlation Coefficient\n",
    "Answer = kendall_tau_rank_correlation(list_A, list_B)\n",
    "\n",
    "# Print the Answer\n",
    "print(\"Kendall Tau Rank Correlation Coefficient:\", Answer)\n"
   ]
  },
  {
   "cell_type": "markdown",
   "metadata": {},
   "source": [
    "I have developed a function to calculate the Kendall Tau Correlation Coefficient for two lists of data using the formula:\n",
    "\n",
    "t = $$\\frac{concordantpairs − discordant pairs}{0.5 × n^{n-1}}$$\n",
    "\n",
    "The formula is explained below:\n",
    "\n",
    "- **Concordant pairs - Discordant pairs**: This represents the net difference between concordant and discordant pairs. If this value is positive, it indicates a positive correlation, meaning that the rankings tend to agree. If it's negative, it indicates a negative correlation, meaning that the rankings tend to disagree.\n",
    "\n",
    "- **0.5 × n × (n - 1)**: This is a normalization term. It represents the total number of possible pairs of items in the rankings. The division by this term normalizes the net difference, providing a correlation measure that ranges between -1 and 1.\n",
    "\n",
    "Where:\n",
    "- list_A \n",
    "- list_B\n",
    "    \n",
    "    represent the list one and twe respectively.\n",
    "After testing the Kendall formula function with two lists of the same column length, the answer was approximately 0.1429. This means that there a positice correlation between the two list of numbers.\n"
   ]
  },
  {
   "cell_type": "markdown",
   "metadata": {
    "deletable": false
   },
   "source": [
    "### Requirement FR4 - Develop a function to generate a set of Kendall Tau Correlation Coefficients for a data structure like the one generated in FR2"
   ]
  },
  {
   "cell_type": "code",
   "execution_count": 46,
   "metadata": {
    "deletable": false
   },
   "outputs": [
    {
     "data": {
      "text/plain": [
       "[('cancer', 'cardiovascular', 0.3013725781675834),\n",
       " ('cancer', 'stroke', 0.5464966893961853),\n",
       " ('cancer', 'depression', 0.5766858861870143),\n",
       " ('cancer', 'rehab', 0.5523734797959984),\n",
       " ('cancer', 'vaccine', 0.4043639970245475),\n",
       " ('cancer', 'diarrhea', 0.5522862823061631),\n",
       " ('cancer', 'obesity', 0.2810228003363173),\n",
       " ('cancer', 'diabetes', 0.3767009791614361),\n",
       " ('cardiovascular', 'stroke', 0.10921402660217654),\n",
       " ('cardiovascular', 'depression', 0.011874969331174249),\n",
       " ('cardiovascular', 'rehab', 0.32802608862459237),\n",
       " ('cardiovascular', 'vaccine', -0.1757549318985992),\n",
       " ('cardiovascular', 'diarrhea', -0.06872417982989064),\n",
       " ('cardiovascular', 'obesity', 0.3675403810813425),\n",
       " ('cardiovascular', 'diabetes', 0.33695278337345846),\n",
       " ('stroke', 'depression', 0.5284163161498582),\n",
       " ('stroke', 'rehab', 0.264638346727899),\n",
       " ('stroke', 'vaccine', 0.2340476996758744),\n",
       " ('stroke', 'diarrhea', 0.5688927688054707),\n",
       " ('stroke', 'obesity', 0.11410367796119317),\n",
       " ('stroke', 'diabetes', 0.3540829330457798),\n",
       " ('depression', 'rehab', -0.033003300330033),\n",
       " ('depression', 'vaccine', 0.6414761016782805),\n",
       " ('depression', 'diarrhea', 0.6703388580140658),\n",
       " ('depression', 'obesity', 0.5327981202271392),\n",
       " ('depression', 'diabetes', 0.21833192420550057),\n",
       " ('rehab', 'vaccine', -0.13499640201487167),\n",
       " ('rehab', 'diarrhea', 0.29033033610616915),\n",
       " ('rehab', 'obesity', -0.07838445709910513),\n",
       " ('rehab', 'diabetes', 0.2585444114930235),\n",
       " ('vaccine', 'diarrhea', 0.11631978214355183),\n",
       " ('vaccine', 'obesity', 0.58535404869077),\n",
       " ('vaccine', 'diabetes', 0.23734146101661588),\n",
       " ('diarrhea', 'obesity', -0.16839654670676107),\n",
       " ('diarrhea', 'diabetes', 0.2981660422007494),\n",
       " ('obesity', 'diabetes', 0.2902260801333922)]"
      ]
     },
     "execution_count": 46,
     "metadata": {},
     "output_type": "execute_result"
    }
   ],
   "source": [
    "def kendall_tau(list_A, list_B):\n",
    "    n = len(list_A)\n",
    "    Concordant_Pairs, Doncordant_Pairs = 0, 0\n",
    "\n",
    "    # Iterating over all pairs of elements in the lists\n",
    "    for i in range(n - 1):\n",
    "        for j in range(i + 1, n):\n",
    "            \n",
    "            # Checking for concordant and discordant pairs in the list\n",
    "            if (list_A[i] < list_A[j] and list_B[i] < list_B[j]) or (list_A[i] > list_A[j] and list_B[i] > list_B[j]):\n",
    "                Concordant_Pairs += 1\n",
    "            elif (list_A[i] < list_A[j] and list_B[i] > list_B[j]) or (list_A[i] > list_A[j] and list_B[i] < list_B[j]):\n",
    "                Doncordant_Pairs += 1\n",
    "\n",
    "    # Calculating Kendall Tau\n",
    "    tau = (Concordant_Pairs - Doncordant_Pairs) / ((Concordant_Pairs + Doncordant_Pairs) * 0.5)\n",
    "    return tau\n",
    "\n",
    "def generate_kendall_coefficients(data_dict):\n",
    "    \n",
    "    # Iterating over all pairs of columns\n",
    "    Column_Name = list(data_dict.keys())\n",
    "    result_list = []\n",
    "\n",
    "    for i in range(len(Column_Name) - 1):\n",
    "        for j in range(i + 1, len(Column_Name)):\n",
    "            \n",
    "            # Calculating Kendall Tau for each pair\n",
    "            tau_coefficient = kendall_tau(data_dict[Column_Name[i]], data_dict[Column_Name[j]])\n",
    "            result_list.append((Column_Name[i], Column_Name[j], tau_coefficient))\n",
    "\n",
    "    return result_list\n",
    "\n",
    "# Example using the dictionary result from FR2:\n",
    "list_of_dict = {'cancer': [70, 70, 68, 53, 75, 69, 70, 63, 73, 66, 70, 63, 68, 69, 72, 65, 69, 61, 68, 67, 68, 65, 65, 68, 64, 63, 68, 69, 61, 72, 63, 75, 67, 72, 63, 69, 73, 70, 69, 73, 69, 73, 65, 70, 64, 64, 63, 68, 70, 70, 70, 62, 81, 69, 72, 69, 66, 67, 70, 84, 65, 65, 63, 81, 65, 67, 66, 67, 61, 76, 66, 70, 67, 70, 73, 63, 62, 82, 75, 65, 74, 68, 81, 76, 57, 65, 62, 64, 65, 63, 69, 65, 100, 65, 62, 66, 64, 61, 64, 60, 55, 64, 57, 63, 59, 66, 68, 70, 70, 51, 58, 57, 55, 68, 67, 72, 67, 58, 61, 60, 58, 67, 68, 66, 62, 59, 66, 64, 60, 63, 65, 55, 56, 63, 59, 60, 65, 73, 65, 65, 61, 64, 65, 63, 70, 59, 67, 68, 66, 64, 64, 65, 68, 57, 68, 65, 64, 66, 72, 68, 67, 64, 67, 57, 59, 52, 63, 58, 47, 58, 61, 64, 62, 60, 65, 58, 57, 64, 49, 59, 59, 59, 67, 59, 55, 57, 57, 65, 61, 58, 59, 61, 61, 59, 64, 56, 58, 59, 64, 57, 56, 60, 61, 57, 59, 53, 59, 56, 58, 63],\n",
    "             'cardiovascular': [37, 34, 24, 38, 35, 38, 37, 32, 35, 36, 35, 31, 42, 47, 32, 30, 34, 30, 39, 35, 50, 40, 50, 30, 37, 50, 33, 39, 40, 39, 43, 39, 24, 36, 43, 34, 23, 33, 29, 40, 30, 29, 32, 42, 44, 41, 41, 35, 33, 29, 34, 56, 22, 34, 24, 37, 52, 24, 29, 34, 40, 52, 35, 41, 13, 38, 31, 30, 30, 35, 45, 44, 27, 43, 28, 35, 36, 0, 55, 41, 73, 16, 38, 28, 30, 32, 25, 41, 35, 24, 33, 28, 70, 48, 37, 44, 38, 35, 29, 46, 35, 39, 41, 31, 23, 44, 64, 33, 50, 25, 34, 30, 37, 42, 49, 82, 77, 36, 78, 47, 42, 45, 56, 36, 32, 36, 27, 39, 31, 29, 36, 32, 32, 28, 25, 29, 47, 34, 29, 38, 33, 44, 39, 22, 40, 45, 33, 78, 31, 46, 46, 30, 100, 51, 44, 43, 31, 37, 47, 36, 32, 34, 31, 19, 28, 14, 31, 0, 44, 28, 28, 46, 25, 31, 31, 28, 31, 26, 33, 28, 27, 52, 10, 27, 31, 57, 19, 27, 29, 0, 44, 31, 35, 33, 27, 29, 25, 30, 23, 22, 31, 26, 37, 27, 31, 24, 29, 42, 38, 33],\n",
    "             'stroke': [83, 53, 71, 62, 61, 66, 58, 71, 73, 67, 65, 54, 65, 79, 65, 62, 73, 64, 71, 76, 75, 59, 74, 75, 62, 69, 70, 63, 53, 74, 75, 84, 66, 63, 67, 63, 73, 95, 62, 69, 87, 73, 64, 64, 67, 84, 74, 67, 70, 69, 83, 71, 88, 95, 88, 67, 67, 71, 69, 81, 64, 68, 72, 89, 65, 68, 69, 78, 70, 77, 77, 75, 74, 84, 73, 83, 59, 84, 76, 69, 85, 72, 79, 81, 63, 58, 70, 75, 67, 84, 66, 63, 88, 77, 68, 66, 64, 59, 79, 72, 55, 75, 65, 57, 74, 78, 81, 73, 84, 56, 67, 54, 49, 72, 75, 84, 68, 57, 74, 86, 79, 90, 68, 70, 64, 65, 69, 78, 77, 71, 74, 73, 68, 67, 65, 61, 70, 73, 96, 70, 62, 70, 76, 82, 73, 74, 80, 73, 80, 90, 83, 83, 76, 67, 72, 74, 64, 86, 77, 84, 79, 81, 74, 80, 67, 72, 86, 100, 48, 59, 61, 64, 79, 79, 78, 70, 78, 59, 71, 73, 70, 53, 75, 93, 68, 55, 74, 64, 65, 0, 58, 75, 76, 55, 70, 53, 60, 69, 77, 63, 62, 81, 57, 55, 55, 60, 64, 61, 76, 77],\n",
    "             'depression': [64, 56, 69, 46, 62, 61, 62, 60, 65, 69, 64, 54, 60, 72, 66, 62, 72, 56, 60, 58, 61, 63, 61, 72, 54, 62, 66, 66, 45, 61, 60, 67, 65, 65, 51, 61, 71, 72, 61, 53, 66, 69, 63, 73, 59, 62, 69, 71, 54, 70, 58, 71, 100, 68, 73, 62, 67, 60, 74, 82, 61, 55, 69, 74, 72, 65, 63, 71, 58, 50, 66, 72, 60, 58, 72, 73, 70, 85, 66, 67, 60, 82, 62, 68, 60, 59, 65, 65, 71, 66, 61, 65, 72, 65, 66, 65, 62, 53, 66, 57, 52, 76, 64, 58, 65, 56, 61, 76, 64, 53, 62, 54, 55, 67, 68, 58, 54, 57, 63, 65, 63, 49, 66, 71, 61, 64, 58, 50, 69, 64, 60, 54, 64, 60, 61, 57, 64, 68, 74, 63, 63, 68, 53, 58, 65, 61, 66, 59, 71, 69, 63, 61, 60, 60, 72, 62, 64, 69, 71, 75, 62, 79, 35, 59, 54, 58, 55, 59, 59, 54, 68, 59, 70, 53, 71, 58, 74, 59, 65, 63, 59, 67, 64, 66, 66, 60, 61, 63, 64, 0, 60, 59, 67, 58, 52, 52, 62, 60, 63, 56, 58, 59, 59, 66, 52, 59, 55, 68, 63, 61],\n",
    "             'rehab': [56, 53, 44, 60, 75, 57, 72, 47, 72, 43, 52, 43, 56, 54, 61, 48, 60, 50, 68, 46, 58, 55, 56, 63, 48, 52, 51, 49, 47, 82, 58, 55, 54, 76, 62, 49, 58, 57, 45, 71, 45, 61, 44, 73, 47, 53, 47, 57, 77, 45, 53, 63, 66, 55, 56, 45, 47, 65, 50, 51, 51, 87, 44, 61, 42, 65, 59, 65, 48, 57, 84, 51, 53, 54, 72, 44, 26, 45, 64, 39, 72, 77, 56, 46, 51, 45, 60, 57, 47, 61, 59, 45, 37, 62, 36, 57, 43, 40, 58, 55, 50, 38, 45, 76, 72, 71, 79, 35, 68, 51, 48, 51, 43, 38, 45, 76, 62, 53, 55, 58, 84, 97, 48, 61, 48, 56, 60, 64, 62, 37, 66, 100, 92, 38, 74, 77, 68, 40, 41, 50, 42, 44, 61, 36, 69, 51, 90, 79, 34, 45, 54, 65, 53, 60, 42, 70, 51, 41, 46, 70, 75, 26, 38, 28, 39, 19, 53, 32, 29, 47, 68, 61, 46, 33, 50, 65, 40, 80, 31, 45, 55, 39, 58, 42, 50, 36, 43, 49, 45, 0, 26, 40, 43, 37, 40, 28, 34, 43, 40, 42, 44, 39, 37, 28, 52, 28, 36, 36, 59, 43],\n",
    "             'vaccine': [76, 79, 77, 47, 84, 73, 76, 66, 86, 62, 71, 79, 79, 76, 70, 74, 85, 63, 70, 76, 67, 77, 63, 90, 65, 54, 73, 78, 60, 74, 78, 91, 76, 87, 60, 74, 70, 88, 76, 70, 72, 77, 72, 79, 75, 72, 69, 74, 69, 99, 74, 87, 80, 82, 80, 80, 71, 72, 78, 85, 80, 69, 70, 80, 71, 88, 68, 84, 55, 62, 80, 88, 70, 70, 83, 77, 83, 63, 91, 70, 100, 79, 90, 70, 64, 69, 73, 81, 81, 68, 73, 64, 98, 61, 80, 74, 67, 74, 67, 62, 64, 74, 92, 69, 71, 58, 65, 91, 72, 67, 85, 76, 60, 76, 71, 66, 58, 71, 64, 58, 47, 44, 74, 67, 74, 79, 73, 56, 70, 74, 78, 71, 80, 83, 73, 61, 62, 79, 78, 76, 80, 62, 64, 64, 65, 61, 69, 64, 83, 76, 74, 52, 70, 66, 64, 63, 65, 76, 89, 78, 68, 95, 59, 85, 78, 76, 56, 83, 53, 71, 73, 72, 78, 85, 87, 70, 77, 75, 68, 88, 69, 70, 91, 70, 68, 65, 68, 78, 71, 0, 61, 80, 84, 65, 56, 69, 78, 74, 76, 80, 67, 77, 80, 72, 60, 76, 75, 61, 89, 85],\n",
    "             'diarrhea': [66, 56, 78, 53, 69, 70, 58, 70, 79, 73, 73, 55, 66, 76, 74, 74, 75, 65, 69, 69, 69, 68, 68, 68, 65, 73, 81, 74, 46, 77, 68, 89, 72, 65, 65, 76, 84, 67, 72, 69, 75, 91, 80, 72, 69, 74, 69, 80, 65, 87, 67, 69, 75, 75, 100, 72, 63, 85, 94, 90, 65, 70, 72, 94, 83, 77, 72, 69, 69, 64, 76, 82, 82, 79, 83, 79, 61, 95, 66, 74, 67, 90, 98, 88, 81, 66, 82, 81, 77, 78, 72, 76, 87, 79, 66, 71, 68, 61, 80, 70, 61, 68, 75, 76, 84, 81, 70, 87, 89, 77, 84, 63, 62, 77, 72, 80, 65, 71, 72, 76, 94, 68, 76, 83, 77, 75, 77, 71, 85, 74, 76, 74, 77, 73, 78, 59, 69, 72, 69, 72, 70, 79, 72, 81, 86, 71, 74, 73, 71, 76, 80, 86, 75, 68, 91, 70, 71, 80, 75, 78, 97, 80, 80, 67, 63, 80, 66, 70, 59, 66, 77, 70, 66, 92, 65, 68, 65, 85, 75, 64, 66, 66, 69, 75, 69, 71, 66, 73, 68, 0, 77, 65, 61, 61, 78, 50, 72, 68, 66, 63, 59, 55, 61, 51, 65, 56, 66, 73, 70, 75],\n",
    "             'obesity': [47, 52, 61, 41, 56, 45, 58, 44, 52, 49, 51, 59, 67, 63, 52, 49, 57, 47, 52, 45, 61, 48, 62, 59, 48, 47, 58, 58, 49, 52, 54, 50, 48, 62, 41, 49, 45, 78, 58, 45, 48, 67, 49, 72, 52, 58, 73, 57, 49, 46, 54, 63, 58, 43, 43, 62, 56, 41, 37, 61, 58, 47, 51, 58, 43, 45, 48, 69, 42, 42, 62, 65, 49, 39, 50, 54, 82, 0, 77, 53, 94, 42, 50, 44, 42, 49, 52, 86, 61, 50, 48, 37, 100, 38, 53, 50, 56, 44, 45, 50, 39, 60, 81, 0, 45, 45, 49, 62, 54, 32, 38, 43, 56, 72, 52, 53, 49, 44, 41, 39, 37, 86, 77, 51, 49, 66, 51, 29, 31, 51, 50, 53, 31, 55, 47, 52, 56, 53, 66, 49, 60, 51, 46, 47, 37, 35, 58, 52, 82, 59, 47, 51, 43, 57, 67, 72, 60, 57, 61, 66, 52, 67, 0, 50, 51, 51, 37, 0, 40, 50, 42, 50, 61, 40, 36, 54, 71, 47, 47, 46, 64, 53, 46, 45, 54, 48, 56, 55, 49, 0, 51, 86, 47, 53, 47, 45, 48, 54, 40, 46, 58, 50, 56, 64, 42, 53, 55, 63, 62, 53],\n",
    "             'diabetes': [80, 78, 72, 66, 78, 74, 74, 74, 79, 81, 75, 73, 85, 76, 76, 74, 83, 71, 80, 75, 79, 74, 83, 68, 72, 81, 80, 82, 70, 82, 80, 84, 74, 84, 73, 76, 80, 87, 72, 77, 68, 87, 83, 75, 80, 78, 83, 81, 74, 75, 75, 78, 77, 67, 85, 82, 82, 74, 73, 79, 79, 76, 72, 92, 68, 73, 73, 74, 73, 71, 80, 72, 74, 72, 75, 73, 78, 78, 82, 71, 92, 83, 89, 97, 82, 71, 70, 90, 73, 79, 75, 73, 100, 84, 75, 79, 74, 74, 77, 73, 69, 76, 79, 84, 71, 89, 81, 88, 85, 79, 73, 73, 96, 79, 84, 95, 84, 90, 65, 64, 70, 100, 78, 75, 76, 78, 77, 65, 80, 63, 81, 89, 88, 73, 80, 80, 81, 81, 85, 79, 77, 78, 72, 76, 77, 75, 80, 77, 73, 76, 81, 84, 95, 66, 79, 86, 70, 81, 87, 71, 75, 78, 56, 81, 80, 80, 83, 97, 84, 66, 73, 78, 69, 80, 81, 81, 95, 80, 69, 81, 74, 82, 93, 80, 75, 80, 72, 79, 80, 0, 78, 79, 66, 74, 81, 67, 80, 69, 79, 71, 73, 61, 76, 67, 70, 63, 76, 77, 75, 73]}\n",
    "\n",
    "# Generate Kendall Tau Rank Correlation Coefficients\n",
    "list_test_result = generate_kendall_coefficients(list_of_dict)\n",
    "\n",
    "list_test_result"
   ]
  },
  {
   "cell_type": "markdown",
   "metadata": {},
   "source": [
    "In the above code i calculate Kendall Tau Rank Correlation Coefficient between two lists.\n",
    "where Parameters are:\n",
    "\n",
    "- list_A\n",
    "    \n",
    "- list_B:\n",
    "    \n",
    "    which represt the two Lists for the correlation coefficient that is needs to be calculated.\n",
    "\n",
    "Also generated Kendall Tau Rank Correlation Coefficients for all pairs of columns in a dictionary.\n",
    "Using `list_of_dict` containing the Dictionary keys of column names and values from `FR2` result as the Parameter.\n",
    "\n",
    "The test returns a list of tuples containing column pairs and their respective Kendall Tau coefficients."
   ]
  },
  {
   "cell_type": "markdown",
   "metadata": {
    "deletable": false
   },
   "source": [
    "### Requirement FR5 - Develop a function to print a custom table for selected data from a data structure like the one generated in FR4"
   ]
  },
  {
   "cell_type": "code",
   "execution_count": 47,
   "metadata": {
    "deletable": false
   },
   "outputs": [
    {
     "name": "stdout",
     "output_type": "stream",
     "text": [
      "***************************************************************************************************************************************\n",
      "*                  vaccine     *    stroke     *  depression   *cardiovascular *    rehab      *   diarrhea    *   obesity     *    cancer     *\n",
      "***************************************************************************************************************************************\n",
      "*vaccine        ---------------*0.2340         *0.6415         *-0.1758        *-0.1350        *0.1163         *0.5854         *0.4044         *\n",
      "***************************************************************************************************************************************\n",
      "*stroke         0.2340         *---------------*0.5284         *0.1092         *0.2646         *0.5689         *0.1141         *0.5465         *\n",
      "***************************************************************************************************************************************\n",
      "*depression     0.6415         *0.5284         *---------------*0.0119         *-0.0330        *0.6703         *0.5328         *0.5767         *\n",
      "***************************************************************************************************************************************\n",
      "*cardiovascular -0.1758        *0.1092         *0.0119         *---------------*0.3280         *-0.0687        *0.3675         *0.3014         *\n",
      "***************************************************************************************************************************************\n",
      "*rehab          -0.1350        *0.2646         *-0.0330        *0.3280         *---------------*0.2903         *-0.0784        *0.5524         *\n",
      "***************************************************************************************************************************************\n",
      "*diarrhea       0.1163         *0.5689         *0.6703         *-0.0687        *0.2903         *---------------*-0.1684        *0.5523         *\n",
      "***************************************************************************************************************************************\n",
      "*obesity        0.5854         *0.1141         *0.5328         *0.3675         *-0.0784        *-0.1684        *---------------*0.2810         *\n",
      "***************************************************************************************************************************************\n",
      "*cancer         0.4044         *0.5465         *0.5767         *0.3014         *0.5524         *0.5523         *0.2810         *---------------*\n",
      "***************************************************************************************************************************************\n"
     ]
    }
   ],
   "source": [
    "def print_correlation_table(correlation_list, border_chart, columns_to_include):\n",
    "    \n",
    "    # Creating a set of unique column names\n",
    "    unique_col = set()\n",
    "    for item in correlation_list:\n",
    "        unique_col.add(item[0])\n",
    "        unique_col.add(item[1])\n",
    "\n",
    "    # Creating a list of columns to included\n",
    "    included_cols = [col for col in unique_col if col in columns_to_include]\n",
    "\n",
    "    # Find the maximum length of any column name\n",
    "    max_col_len = max(len(col) for col in included_cols)\n",
    "\n",
    "    # Print the table header\n",
    "    #print(border_char * (15 + (max_col_len + 1) * len(included_columns)))\n",
    "    #print(f\"{border_chart}{' ' * 20}Correlation Table{' ' * 20}{border_chart}\")\n",
    "    print(border_char * (15 + (max_col_len + 1) * len(included_cols)))\n",
    "\n",
    "    # Print the column headers\n",
    "    header_line = f\"{border_chart}{' ' * 15}\"\n",
    "    for col in included_cols:\n",
    "        header_line += f\"{col.center(max_col_len)} {border_chart}\"\n",
    "    print(header_line)\n",
    "    print(border_chart * (15 + (max_col_len + 1) * len(included_cols)))\n",
    "\n",
    "    # Print the correlation coefficients\n",
    "    for row_col in included_cols:\n",
    "        row_line = f\"{border_chart}{row_col.ljust(15)}\"\n",
    "        for col_col in included_cols:\n",
    "            if row_col == col_col:\n",
    "                row_line += f\"{'-' * (max_col_len + 1)}{border_chart}\"\n",
    "            else:\n",
    "                # Find the corresponding correlation coefficient\n",
    "                correlation = next((item[2] for item in correlation_list if (item[0] == row_col and item[1] == col_col) or (item[0] == col_col and item[1] == row_col)), None)\n",
    "                if correlation is not None:\n",
    "                    row_line += f\"{correlation:.4f}\".ljust(max_col_len) + f\" {border_chart}\"\n",
    "                else:\n",
    "                    row_line += f\"{'-' * (max_col_len + 1)}{border_char}\"\n",
    "        print(row_line)\n",
    "        print(border_chart * (15 + (max_col_len + 1) * len(included_cols)))\n",
    "\n",
    "\n",
    "#cancer,cardiovascular,stroke,depression,rehab,vaccine,diarrhea,obesity,diabetes\n",
    "\n",
    "# Testing function usng the output from FR4\n",
    "# Specify the border character and columns to be included\n",
    "\n",
    "correlation_list = [('cancer', 'cardiovascular', 0.3013725781675834),\n",
    "('cancer', 'stroke', 0.5464966893961853),\n",
    "('cancer', 'depression', 0.5766858861870143),\n",
    "('cancer', 'rehab', 0.5523734797959984),\n",
    "('cancer', 'vaccine', 0.4043639970245475),\n",
    "('cancer', 'diarrhea', 0.5522862823061631),\n",
    "('cancer', 'obesity', 0.2810228003363173),\n",
    "('cancer', 'diabetes', 0.3767009791614361),\n",
    "('cardiovascular', 'stroke', 0.10921402660217654),\n",
    "('cardiovascular', 'depression', 0.011874969331174249),\n",
    "('cardiovascular', 'rehab', 0.32802608862459237),\n",
    "('cardiovascular', 'vaccine', -0.1757549318985992),\n",
    "('cardiovascular', 'diarrhea', -0.06872417982989064),\n",
    "('cardiovascular', 'obesity', 0.3675403810813425),\n",
    "('cardiovascular', 'diabetes', 0.33695278337345846),\n",
    "('stroke', 'depression', 0.5284163161498582),\n",
    "('stroke', 'rehab', 0.264638346727899),\n",
    "('stroke', 'vaccine', 0.2340476996758744),\n",
    "('stroke', 'diarrhea', 0.5688927688054707),\n",
    "('stroke', 'obesity', 0.11410367796119317),\n",
    "('stroke', 'diabetes', 0.3540829330457798),\n",
    "('depression', 'rehab', -0.033003300330033),\n",
    "('depression', 'vaccine', 0.6414761016782805),\n",
    "('depression', 'diarrhea', 0.6703388580140658),\n",
    "('depression', 'obesity', 0.5327981202271392),\n",
    "('depression', 'diabetes', 0.21833192420550057),\n",
    "('rehab', 'vaccine', -0.13499640201487167),\n",
    "('rehab', 'diarrhea', 0.29033033610616915),\n",
    "('rehab', 'obesity', -0.07838445709910513),\n",
    "('rehab', 'diabetes', 0.2585444114930235),\n",
    "('vaccine', 'diarrhea', 0.11631978214355183),\n",
    "('vaccine', 'obesity', 0.58535404869077),\n",
    "('vaccine', 'diabetes', 0.23734146101661588),\n",
    "('diarrhea', 'obesity', -0.16839654670676107),\n",
    "('diarrhea', 'diabetes', 0.2981660422007494),\n",
    "('obesity', 'diabetes', 0.2902260801333922)]\n",
    "\n",
    "\n",
    "border_chart = '*'\n",
    "columns_to_include = ['cancer', 'cardiovascular','stroke', 'depression', 'rehab', 'vaccine', 'diarrhea', 'obesity']\n",
    "\n",
    "print_correlation_table(correlation_list, border_chart, columns_to_include)\n"
   ]
  },
  {
   "cell_type": "markdown",
   "metadata": {},
   "source": [
    "### Correlation Table Markdown Generation\n",
    "\n",
    "I created a Python function `print_correlation_table` to print a correlation table based on list of correlation coefficients. \n",
    "This function takes:\n",
    "- the correlation list\n",
    "- border character\n",
    "- columns to include as parameters. \n",
    "\n",
    "The function does the following:\n",
    "- calculate the unique columns\n",
    "- finds the maximum column name length\n",
    "- prints the table with correlation coefficients\n",
    "\n",
    "I tested the function with a sample correlation list generated in `FR4`. The resulting table above is printed using a specified border character and includes only selected columns from FR4 result."
   ]
  }
 ],
 "metadata": {
  "kernelspec": {
   "display_name": "Python 3 (ipykernel)",
   "language": "python",
   "name": "python3"
  },
  "language_info": {
   "codemirror_mode": {
    "name": "ipython",
    "version": 3
   },
   "file_extension": ".py",
   "mimetype": "text/x-python",
   "name": "python",
   "nbconvert_exporter": "python",
   "pygments_lexer": "ipython3",
   "version": "3.11.5"
  }
 },
 "nbformat": 4,
 "nbformat_minor": 4
}
